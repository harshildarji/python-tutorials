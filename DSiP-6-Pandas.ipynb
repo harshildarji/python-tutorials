{
 "cells": [
  {
   "cell_type": "markdown",
   "metadata": {
    "slideshow": {
     "slide_type": "slide"
    }
   },
   "source": [
    "# Scientific Programming in Python (SPiP) - Data Analysis with Pandas\n",
    "\n",
    "\n",
    "by [Michael Granitzer (michael.granitzer@uni-passau.de)](http://www.mendeley.com/profiles/michael-granitzer/) \n",
    "\n",
    "based on the following sources\n",
    "\n",
    "* [Pandas Documentation](http://pandas.pydata.org/pandas-docs/stable/pandas.pdf)\n",
    "* [Marcel Caraciolo](https://github.com/marcelcaraciolo), \n",
    "  [Big Data Tutorial](https://github.com/marcelcaraciolo/big-data-tutorial)\n",
    "\n",
    "\n",
    "__License__\n",
    "\n",
    "This work is licensed under a [Creative Commons Attribution 3.0 Unported License](http://creativecommons.org/licenses/by/3.0/)"
   ]
  },
  {
   "cell_type": "markdown",
   "metadata": {
    "slideshow": {
     "slide_type": "subslide"
    }
   },
   "source": [
    "#Content and Goals\n",
    "\n",
    "##Content\n",
    "\n",
    "* What is Pandas?\n",
    "* Basic Data Structures: Series and Data Frame\n",
    "* Basic Functions\n",
    "* Descriptive statistic\n",
    "* IO Tools\n",
    "* Visualisation with Pandas\n",
    "\n",
    "##Goals \n",
    "* Multivariate Data processing\n",
    "* Loading, filtering, analysing data sets\n",
    "* Basic visualisation/plotting functions\n"
   ]
  },
  {
   "cell_type": "markdown",
   "metadata": {
    "slideshow": {
     "slide_type": "slide"
    }
   },
   "source": [
    "# 1. What is Pandas\n",
    "\n",
    "*pandas is a Python package providing fast, ﬂexible, and expressive data structures designed to make working with\n",
    "“relational” or “labeled” data both easy and intuitive. It aims to be the fundamental high-level building block for doing\n",
    "practical, real world data analysis in Python* (http://pandas.pydata.org/) \n",
    "\n",
    "Pandas builds on top of Numpy to ease managing heterogeneous data sets.\n"
   ]
  },
  {
   "cell_type": "markdown",
   "metadata": {
    "slideshow": {
     "slide_type": "subslide"
    }
   },
   "source": [
    "## 1.1 Data Handled by Pandas\n",
    "\n",
    "Pandas is well suited for many different kinds of data:\n",
    "\n",
    "* Tabular data with heterogeneously-typed columns (comparable to EXCEL, R or relational Databases)\n",
    "* Time series data\n",
    "*  Matrix data(homogeneously typed or heterogeneous) with row and column labels\n",
    "* Any other form of observational / statistical data sets. \n"
   ]
  },
  {
   "cell_type": "markdown",
   "metadata": {
    "slideshow": {
     "slide_type": "subslide"
    }
   },
   "source": [
    "## 1.2 Feature Overview\n",
    "\n",
    "* Easy handling of missing data (represented as NaN)\n",
    "* Size mutability: columns can be inserted and deleted from DataFrame and higher dimensional objects\n",
    "* Automatic and explicit data alignment: objects can be explicitly aligned to a set of labels, or the user can simply ignore the labels and let Series, DataFrame, etc. automatically align the data for you in computations\n",
    "* Powerful, flexible group by functionality to perform split-apply-combine operations on data sets, for both ag- gregating and transforming data\n",
    "* Make it easy to convert ragged, differently-indexed data in other Python and NumPy data structures into DataFrame objects\n",
    "* Intelligent label-based slicing, fancy indexing, and subsetting of large data sets\n",
    "* Intuitive merging and joining data sets\n",
    "* Flexible reshaping and pivoting of data sets\n",
    "* Hierarchical labeling of axes (possible to have multiple labels per tick)\n",
    "* Robust IO tools for loading and storing data \n",
    "* Time series-specific functionality\n",
    "* Fast realization in Cython\n",
    "\n"
   ]
  },
  {
   "cell_type": "markdown",
   "metadata": {
    "slideshow": {
     "slide_type": "slide"
    }
   },
   "source": [
    "# 2. Pandas Data Structures\n",
    "\n",
    "Pandas is build around two data structures\n",
    "\n",
    "* `Series` represent 1 dimensional datasets as subclass of Numpy's ndarray\n",
    "* `DataFrame` represent 2 dimensional data sets as list of `Series`\n",
    "* `Panel` represents higher dimensional data as dictionaries of `DataFrame`'s. We do not discuss `Panel`'s here.\n",
    "\n",
    "For all data structures, labels/indices can be defined per row and column. \n",
    "\n",
    "Data alignment is intrinsict, i.e. the link between labels and data will not be broken.\n",
    "\n"
   ]
  },
  {
   "cell_type": "markdown",
   "metadata": {
    "slideshow": {
     "slide_type": "slide"
    }
   },
   "source": [
    "## 2.1. Series: labelled arrays\n",
    "\n",
    "Series is a one-dimensional labeled array capable of holding any data type (integers, strings, ﬂoating point numbers,Python objects, etc.). The axis labels are collectively referred to as the index. The basic method to create a Series is\n",
    "to call:\n",
    "\n",
    "    Series(data, index=index)\n",
    "    \n",
    "`data` may be a dict, a `numpy.ndarray` or a sclar value"
   ]
  },
  {
   "cell_type": "markdown",
   "metadata": {
    "slideshow": {
     "slide_type": "fragment"
    }
   },
   "source": [
    "**Creating a series**"
   ]
  },
  {
   "cell_type": "code",
   "execution_count": 1,
   "metadata": {
    "slideshow": {
     "slide_type": "fragment"
    }
   },
   "outputs": [
    {
     "name": "stdout",
     "output_type": "stream",
     "text": [
      "0     2.0000\n",
      "1     1.0000\n",
      "2     5.0000\n",
      "3     0.9700\n",
      "4     3.0000\n",
      "5    10.0000\n",
      "6     0.0599\n",
      "7     8.0000\n",
      "dtype: float64\n"
     ]
    }
   ],
   "source": [
    "import numpy as np # we need numpy\n",
    "import pandas as pd #import pandas\n",
    "\n",
    "\n",
    "values = np.array([2.0, 1.0, 5.0, 0.97, 3.0, 10.0, 0.0599, 8.0]) #create numpy array\n",
    "ser = pd.Series(values) # now create series\n",
    "print (ser)"
   ]
  },
  {
   "cell_type": "code",
   "execution_count": 2,
   "metadata": {
    "slideshow": {
     "slide_type": "fragment"
    }
   },
   "outputs": [
    {
     "name": "stdout",
     "output_type": "stream",
     "text": [
      "A     2.0000\n",
      "B     1.0000\n",
      "C     5.0000\n",
      "D     0.9700\n",
      "E     3.0000\n",
      "F    10.0000\n",
      "G     0.0599\n",
      "H     8.0000\n",
      "dtype: float64\n"
     ]
    }
   ],
   "source": [
    "#now lets put some index on the data\n",
    "#indices will be great later on when accessing datas\n",
    "#indices represent unique identifiers for rows\n",
    "values = np.array([2.0, 1.0, 5.0, 0.97, 3.0, 10.0, 0.0599, 8.0])\n",
    "labels = ['A', 'B', 'C', 'D', 'E', 'F', 'G', 'H']\n",
    "ser = pd.Series(data=values, index=labels)#values and labels must have the same dimension\n",
    "print (ser)\n"
   ]
  },
  {
   "cell_type": "code",
   "execution_count": 3,
   "metadata": {
    "slideshow": {
     "slide_type": "fragment"
    }
   },
   "outputs": [
    {
     "name": "stdout",
     "output_type": "stream",
     "text": [
      "age                                                1\n",
      "gender                                             F\n",
      "genres                                         Drama\n",
      "movie_id                                        1193\n",
      "occupation                                        10\n",
      "rating                                             5\n",
      "timestamp                                  978300760\n",
      "title         One Flew Over the Cuckoo's Nest (1975)\n",
      "user_id                                            1\n",
      "zip                                            48067\n",
      "dtype: object\n"
     ]
    }
   ],
   "source": [
    "#craeting a heterogeneous series\n",
    "movie_rating = {\n",
    "    'age': 1,\n",
    "    'gender': 'F',\n",
    "    'genres': 'Drama',\n",
    "    'movie_id': 1193,\n",
    "    'occupation': 10,\n",
    "    'rating': 5,\n",
    "    'timestamp': 978300760,\n",
    "    'title': \"One Flew Over the Cuckoo's Nest (1975)\",\n",
    "    'user_id': 1,\n",
    "    'zip': '48067'\n",
    "    }\n",
    "ser = pd.Series(movie_rating)\n",
    "print (ser)"
   ]
  },
  {
   "cell_type": "code",
   "execution_count": 4,
   "metadata": {
    "slideshow": {
     "slide_type": "fragment"
    }
   },
   "outputs": [
    {
     "data": {
      "text/plain": [
       "Index(['age', 'gender', 'genres', 'movie_id', 'occupation', 'rating',\n",
       "       'timestamp', 'title', 'user_id', 'zip'],\n",
       "      dtype='object')"
      ]
     },
     "execution_count": 4,
     "metadata": {},
     "output_type": "execute_result"
    }
   ],
   "source": [
    "#show the index\n",
    "ser.index"
   ]
  },
  {
   "cell_type": "code",
   "execution_count": 5,
   "metadata": {
    "slideshow": {
     "slide_type": "fragment"
    }
   },
   "outputs": [
    {
     "data": {
      "text/plain": [
       "array([1, 'F', 'Drama', 1193, 10, 5, 978300760,\n",
       "       \"One Flew Over the Cuckoo's Nest (1975)\", 1, '48067'], dtype=object)"
      ]
     },
     "execution_count": 5,
     "metadata": {},
     "output_type": "execute_result"
    }
   ],
   "source": [
    "#show the value\n",
    "ser.values"
   ]
  },
  {
   "cell_type": "markdown",
   "metadata": {
    "slideshow": {
     "slide_type": "subslide"
    }
   },
   "source": [
    "**Series Indexing**\n",
    "\n",
    "Accessing elements in a series can be either done via the number or the index"
   ]
  },
  {
   "cell_type": "code",
   "execution_count": 6,
   "metadata": {
    "slideshow": {
     "slide_type": "fragment"
    }
   },
   "outputs": [
    {
     "data": {
      "text/plain": [
       "1"
      ]
     },
     "execution_count": 6,
     "metadata": {},
     "output_type": "execute_result"
    }
   ],
   "source": [
    "#use the row number\n",
    "ser[0]"
   ]
  },
  {
   "cell_type": "code",
   "execution_count": 7,
   "metadata": {
    "slideshow": {
     "slide_type": "fragment"
    }
   },
   "outputs": [
    {
     "data": {
      "text/plain": [
       "'F'"
      ]
     },
     "execution_count": 7,
     "metadata": {},
     "output_type": "execute_result"
    }
   ],
   "source": [
    "#use the index like in a dict object\n",
    "ser['gender']"
   ]
  },
  {
   "cell_type": "code",
   "execution_count": 8,
   "metadata": {
    "slideshow": {
     "slide_type": "fragment"
    }
   },
   "outputs": [
    {
     "data": {
      "text/plain": [
       "'F'"
      ]
     },
     "execution_count": 8,
     "metadata": {},
     "output_type": "execute_result"
    }
   ],
   "source": [
    "ser.get_value('gender')"
   ]
  },
  {
   "cell_type": "markdown",
   "metadata": {
    "slideshow": {
     "slide_type": "subslide"
    }
   },
   "source": [
    "**Operations between Series with different index objects**\n",
    "\n",
    "Index objects are unique and used in operations between series"
   ]
  },
  {
   "cell_type": "code",
   "execution_count": 9,
   "metadata": {
    "slideshow": {
     "slide_type": "fragment"
    }
   },
   "outputs": [
    {
     "name": "stdout",
     "output_type": "stream",
     "text": [
      "A    6.0\n",
      "B    NaN\n",
      "C    9.0\n",
      "G    NaN\n",
      "dtype: float64\n"
     ]
    }
   ],
   "source": [
    "ser_1 = pd.Series(data=[1,3,4], index=['A', 'B', 'C']) #series 1\n",
    "ser_2 = pd.Series(data=[5,5,5], index=['A', 'G', 'C']) #series 2 but with different indices\n",
    "print (ser_1 + ser_2) #note that if an index not exists, its value is undefined"
   ]
  },
  {
   "cell_type": "markdown",
   "metadata": {
    "slideshow": {
     "slide_type": "subslide"
    }
   },
   "source": [
    "**A `Series` is like a `Numpy.ndarray`**\n",
    "\n",
    "It can be used in Numpy functions."
   ]
  },
  {
   "cell_type": "code",
   "execution_count": 10,
   "metadata": {
    "slideshow": {
     "slide_type": "fragment"
    }
   },
   "outputs": [
    {
     "name": "stdout",
     "output_type": "stream",
     "text": [
      "a    1.695949\n",
      "b   -0.137781\n",
      "c    1.753897\n",
      "d   -0.919139\n",
      "e   -0.799498\n",
      "dtype: float64\n",
      "epx(s)\n",
      " a    5.451815\n",
      "b    0.871289\n",
      "c    5.777074\n",
      "dtype: float64\n",
      "a    1.695949\n",
      "b   -0.137781\n",
      "c    1.753897\n",
      "d   -0.919139\n",
      "e   -0.799498\n",
      "dtype: float64\n"
     ]
    }
   ],
   "source": [
    "s=pd.Series(np.random.randn(5),index=[\"a\", \"b\", \"c\", \"d\", \"e\"])\n",
    "print (s)\n",
    "print (\"epx(s)\\n\",np.exp(s[:3]))\n",
    "print (s)"
   ]
  },
  {
   "cell_type": "markdown",
   "metadata": {
    "slideshow": {
     "slide_type": "subslide"
    }
   },
   "source": [
    "**Naming a series**\n",
    "\n",
    "A series can have a name, i.e. a series label (or if viewed column wise the name of the column)"
   ]
  },
  {
   "cell_type": "code",
   "execution_count": 11,
   "metadata": {
    "slideshow": {
     "slide_type": "fragment"
    }
   },
   "outputs": [
    {
     "name": "stdout",
     "output_type": "stream",
     "text": [
      "a    1.695949\n",
      "b   -0.137781\n",
      "c    1.753897\n",
      "d   -0.919139\n",
      "e   -0.799498\n",
      "Name: Name of my Series, dtype: float64\n"
     ]
    }
   ],
   "source": [
    "s.name=\"Name of my Series\"\n",
    "print (s)"
   ]
  },
  {
   "cell_type": "markdown",
   "metadata": {
    "slideshow": {
     "slide_type": "slide"
    }
   },
   "source": [
    "## 2.2. DataFrame: a Series of Series\n",
    "\n",
    "The pandas DataFrame is a 2 dimensional labeled data structure with columns of potentially different types. Similar to \n",
    "* a spreadsheet \n",
    "* relational database table \n",
    "* a dictionary of series"
   ]
  },
  {
   "cell_type": "markdown",
   "metadata": {
    "slideshow": {
     "slide_type": "subslide"
    }
   },
   "source": [
    "**Creating DataFrame's**\n",
    "\n",
    "DataFrame's can be created from\n",
    "* dict of Series\n",
    "* dict of ndarrays\n",
    "* structured or record arrays\n",
    "* from a list of dicts\n",
    "* From a dict of tuples\n",
    "* From a Series"
   ]
  },
  {
   "cell_type": "code",
   "execution_count": 12,
   "metadata": {
    "slideshow": {
     "slide_type": "fragment"
    }
   },
   "outputs": [
    {
     "name": "stdout",
     "output_type": "stream",
     "text": [
      "   one  two\n",
      "a  1.0  1.0\n",
      "b  2.0  2.0\n",
      "c  3.0  3.0\n",
      "d  NaN  4.0\n",
      "   one  two\n",
      "d  NaN  4.0\n",
      "b  2.0  2.0\n",
      "a  1.0  1.0\n",
      "Index: Index(['a', 'b', 'c', 'd'], dtype='object')\n",
      "Columns: Index(['one', 'two'], dtype='object')\n"
     ]
    }
   ],
   "source": [
    "#dict of series\n",
    "d = {'one' : pd.Series([1., 2., 3.], index=['a', 'b', 'c']),\n",
    "    'two' : pd.Series([1., 2., 3., 4.], index=['a', 'b', 'c', 'd'])}\n",
    "df = pd.DataFrame(d)\n",
    "print (df)\n",
    "print (pd.DataFrame(d,index=['d','b','a'])) # create data frame with index subset\n",
    "print\n",
    "print (\"Index:\", df.index)\n",
    "print (\"Columns:\", df.columns)"
   ]
  },
  {
   "cell_type": "code",
   "execution_count": 13,
   "metadata": {
    "slideshow": {
     "slide_type": "fragment"
    }
   },
   "outputs": [
    {
     "name": "stdout",
     "output_type": "stream",
     "text": [
      "   one  two\n",
      "0  1.0  1.0\n",
      "1  2.0  2.0\n",
      "2  3.0  3.0\n",
      "3  4.0  4.0\n"
     ]
    }
   ],
   "source": [
    "#dict of lists\n",
    "d = {'one' : [1., 2., 3., 4.],\n",
    "    'two' :  [1., 2., 3., 4.]}\n",
    "print (pd.DataFrame(d))"
   ]
  },
  {
   "cell_type": "code",
   "execution_count": 14,
   "metadata": {
    "slideshow": {
     "slide_type": "fragment"
    }
   },
   "outputs": [
    {
     "name": "stdout",
     "output_type": "stream",
     "text": [
      "   a   b     c\n",
      "0  1   2   NaN\n",
      "1  5  10  20.0\n"
     ]
    }
   ],
   "source": [
    "#form a list of dicts\n",
    "data2 = [{'a': 1, 'b': 2}, {'a': 5, 'b': 10, 'c': 20}]\n",
    "print (pd.DataFrame(data2))"
   ]
  },
  {
   "cell_type": "code",
   "execution_count": 15,
   "metadata": {
    "slideshow": {
     "slide_type": "fragment"
    }
   },
   "outputs": [
    {
     "name": "stdout",
     "output_type": "stream",
     "text": [
      "       a              b      \n",
      "       a    b    c    a     b\n",
      "A B  4.0  1.0  5.0  8.0  10.0\n",
      "  C  3.0  2.0  6.0  7.0   NaN\n",
      "  D  NaN  NaN  NaN  NaN   9.0\n"
     ]
    }
   ],
   "source": [
    "# a dict of tuples\n",
    "print (pd.DataFrame({('a', 'b'): {('A', 'B'): 1, ('A', 'C'): 2},\n",
    " ('a', 'a'): {('A', 'C'): 3, ('A', 'B'): 4},\n",
    " ('a', 'c'): {('A', 'B'): 5, ('A', 'C'): 6},\n",
    " ('b', 'a'): {('A', 'C'): 7, ('A', 'B'): 8},\n",
    " ('b', 'b'): {('A', 'D'): 9, ('A', 'B'): 10}}) )"
   ]
  },
  {
   "cell_type": "markdown",
   "metadata": {
    "slideshow": {
     "slide_type": "subslide"
    }
   },
   "source": [
    "**Column selection, addition, deletion**\n",
    "\n",
    "DataFrame's work similar to dict objects"
   ]
  },
  {
   "cell_type": "code",
   "execution_count": 16,
   "metadata": {
    "slideshow": {
     "slide_type": "fragment"
    }
   },
   "outputs": [
    {
     "name": "stdout",
     "output_type": "stream",
     "text": [
      "a    1.0\n",
      "b    2.0\n",
      "c    3.0\n",
      "d    NaN\n",
      "Name: one, dtype: float64\n"
     ]
    }
   ],
   "source": [
    "d = {'one' : pd.Series([1., 2., 3.], index=['a', 'b', 'c']),\n",
    "    'two' : pd.Series([1., 2., 3., 4.], index=['a', 'b', 'c', 'd'])}\n",
    "df = pd.DataFrame(d)\n",
    "print (df['one'])"
   ]
  },
  {
   "cell_type": "code",
   "execution_count": 17,
   "metadata": {
    "slideshow": {
     "slide_type": "fragment"
    }
   },
   "outputs": [
    {
     "name": "stdout",
     "output_type": "stream",
     "text": [
      "   one  two  three\n",
      "a  1.0  1.0    1.0\n",
      "b  2.0  2.0    4.0\n",
      "c  3.0  3.0    9.0\n",
      "d  NaN  4.0    NaN\n"
     ]
    }
   ],
   "source": [
    "df['three']=df['one']*df['two']\n",
    "print (df)"
   ]
  },
  {
   "cell_type": "code",
   "execution_count": 18,
   "metadata": {
    "slideshow": {
     "slide_type": "fragment"
    }
   },
   "outputs": [
    {
     "name": "stdout",
     "output_type": "stream",
     "text": [
      "   one  three\n",
      "a  1.0    1.0\n",
      "b  2.0    4.0\n",
      "c  3.0    9.0\n",
      "d  NaN    NaN\n"
     ]
    }
   ],
   "source": [
    "del df['two']\n",
    "print (df)"
   ]
  },
  {
   "cell_type": "code",
   "execution_count": 19,
   "metadata": {
    "slideshow": {
     "slide_type": "fragment"
    }
   },
   "outputs": [
    {
     "name": "stdout",
     "output_type": "stream",
     "text": [
      "   one  three  foo\n",
      "a  1.0    1.0  bar\n",
      "b  2.0    4.0  bar\n",
      "c  3.0    9.0  bar\n",
      "d  NaN    NaN  bar\n"
     ]
    }
   ],
   "source": [
    "df['foo']='bar'\n",
    "print (df)"
   ]
  },
  {
   "cell_type": "code",
   "execution_count": 20,
   "metadata": {
    "slideshow": {
     "slide_type": "fragment"
    }
   },
   "outputs": [
    {
     "name": "stdout",
     "output_type": "stream",
     "text": [
      "Before\n",
      "   one  three  foo\n",
      "a  1.0    1.0  bar\n",
      "b  2.0    4.0  bar\n",
      "c  3.0    9.0  bar\n",
      "d  NaN    NaN  bar\n",
      "After\n",
      "   one  bar  three  foo\n",
      "a  1.0  1.0    1.0  bar\n",
      "b  2.0  2.0    4.0  bar\n",
      "c  3.0  3.0    9.0  bar\n",
      "d  NaN  NaN    NaN  bar\n"
     ]
    }
   ],
   "source": [
    "print (\"Before\")\n",
    "print (df)\n",
    "df.insert(1,\"bar\",df[\"one\"])\n",
    "print (\"After\")\n",
    "print (df)"
   ]
  },
  {
   "cell_type": "markdown",
   "metadata": {
    "slideshow": {
     "slide_type": "subslide"
    }
   },
   "source": [
    "**Indexing/Selection**\n",
    "\n",
    "<table>\n",
    "<tr><td>Operation</td><td>Syntax</td><td>Result</td></tr>\n",
    "<tr><td>Select column</td><td>df[col]</td><td>Series</td></tr>\n",
    "<tr><td>Select columns by labels</td><td>df[[list of labels]]</td><td>DataFrame</td></tr>\n",
    "<tr><td>Select row by index</td><td>df.loc[index]</td><td>Series</td></tr>\n",
    "<tr><td>Select row by integer location</td><td>df.iloc[loc]</td><td>Series</td></tr>\n",
    "<tr><td>Slice rows</td><td>df[5:10]</td><td>DataFrame</td></tr>\n",
    "<tr><td>Select rows by boolean vector</td><td>df[bool_vec]</td><td>DataFrame</td></tr>\n",
    "<tr><td> Flexible slicing</td><td>df.ix[rowselector, columnselector]</td><td>Variable</td></tr>\n",
    "</table>"
   ]
  },
  {
   "cell_type": "code",
   "execution_count": 21,
   "metadata": {
    "slideshow": {
     "slide_type": "fragment"
    }
   },
   "outputs": [
    {
     "data": {
      "text/plain": [
       "a    1.0\n",
       "b    2.0\n",
       "c    3.0\n",
       "d    NaN\n",
       "Name: one, dtype: float64"
      ]
     },
     "execution_count": 21,
     "metadata": {},
     "output_type": "execute_result"
    }
   ],
   "source": [
    "df['one']"
   ]
  },
  {
   "cell_type": "code",
   "execution_count": 22,
   "metadata": {
    "slideshow": {
     "slide_type": "fragment"
    }
   },
   "outputs": [
    {
     "data": {
      "text/html": [
       "<div>\n",
       "<table border=\"1\" class=\"dataframe\">\n",
       "  <thead>\n",
       "    <tr style=\"text-align: right;\">\n",
       "      <th></th>\n",
       "      <th>one</th>\n",
       "      <th>bar</th>\n",
       "      <th>three</th>\n",
       "      <th>foo</th>\n",
       "    </tr>\n",
       "  </thead>\n",
       "  <tbody>\n",
       "    <tr>\n",
       "      <th>c</th>\n",
       "      <td>3.0</td>\n",
       "      <td>3.0</td>\n",
       "      <td>9.0</td>\n",
       "      <td>bar</td>\n",
       "    </tr>\n",
       "    <tr>\n",
       "      <th>d</th>\n",
       "      <td>NaN</td>\n",
       "      <td>NaN</td>\n",
       "      <td>NaN</td>\n",
       "      <td>bar</td>\n",
       "    </tr>\n",
       "  </tbody>\n",
       "</table>\n",
       "</div>"
      ],
      "text/plain": [
       "   one  bar  three  foo\n",
       "c  3.0  3.0    9.0  bar\n",
       "d  NaN  NaN    NaN  bar"
      ]
     },
     "execution_count": 22,
     "metadata": {},
     "output_type": "execute_result"
    }
   ],
   "source": [
    "df[2:4]"
   ]
  },
  {
   "cell_type": "code",
   "execution_count": 23,
   "metadata": {
    "slideshow": {
     "slide_type": "fragment"
    }
   },
   "outputs": [
    {
     "data": {
      "text/html": [
       "<div>\n",
       "<table border=\"1\" class=\"dataframe\">\n",
       "  <thead>\n",
       "    <tr style=\"text-align: right;\">\n",
       "      <th></th>\n",
       "      <th>one</th>\n",
       "      <th>three</th>\n",
       "    </tr>\n",
       "  </thead>\n",
       "  <tbody>\n",
       "    <tr>\n",
       "      <th>a</th>\n",
       "      <td>1.0</td>\n",
       "      <td>1.0</td>\n",
       "    </tr>\n",
       "    <tr>\n",
       "      <th>b</th>\n",
       "      <td>2.0</td>\n",
       "      <td>4.0</td>\n",
       "    </tr>\n",
       "    <tr>\n",
       "      <th>c</th>\n",
       "      <td>3.0</td>\n",
       "      <td>9.0</td>\n",
       "    </tr>\n",
       "    <tr>\n",
       "      <th>d</th>\n",
       "      <td>NaN</td>\n",
       "      <td>NaN</td>\n",
       "    </tr>\n",
       "  </tbody>\n",
       "</table>\n",
       "</div>"
      ],
      "text/plain": [
       "   one  three\n",
       "a  1.0    1.0\n",
       "b  2.0    4.0\n",
       "c  3.0    9.0\n",
       "d  NaN    NaN"
      ]
     },
     "execution_count": 23,
     "metadata": {},
     "output_type": "execute_result"
    }
   ],
   "source": [
    "df[[\"one\",\"three\"]]"
   ]
  },
  {
   "cell_type": "code",
   "execution_count": 24,
   "metadata": {
    "slideshow": {
     "slide_type": "fragment"
    }
   },
   "outputs": [
    {
     "data": {
      "text/html": [
       "<div>\n",
       "<table border=\"1\" class=\"dataframe\">\n",
       "  <thead>\n",
       "    <tr style=\"text-align: right;\">\n",
       "      <th></th>\n",
       "      <th>one</th>\n",
       "      <th>bar</th>\n",
       "      <th>three</th>\n",
       "      <th>foo</th>\n",
       "    </tr>\n",
       "  </thead>\n",
       "  <tbody>\n",
       "    <tr>\n",
       "      <th>c</th>\n",
       "      <td>3.0</td>\n",
       "      <td>3.0</td>\n",
       "      <td>9.0</td>\n",
       "      <td>bar</td>\n",
       "    </tr>\n",
       "    <tr>\n",
       "      <th>d</th>\n",
       "      <td>NaN</td>\n",
       "      <td>NaN</td>\n",
       "      <td>NaN</td>\n",
       "      <td>bar</td>\n",
       "    </tr>\n",
       "  </tbody>\n",
       "</table>\n",
       "</div>"
      ],
      "text/plain": [
       "   one  bar  three  foo\n",
       "c  3.0  3.0    9.0  bar\n",
       "d  NaN  NaN    NaN  bar"
      ]
     },
     "execution_count": 24,
     "metadata": {},
     "output_type": "execute_result"
    }
   ],
   "source": [
    "df[[False,False,True,True]]"
   ]
  },
  {
   "cell_type": "code",
   "execution_count": 25,
   "metadata": {
    "slideshow": {
     "slide_type": "fragment"
    }
   },
   "outputs": [
    {
     "name": "stdout",
     "output_type": "stream",
     "text": [
      "   one  bar  three  foo\n",
      "a  1.0  1.0    1.0  bar\n",
      "b  2.0  2.0    4.0  bar\n",
      "c  3.0  3.0    9.0  bar\n",
      "d  NaN  NaN    NaN  bar\n",
      "Selecting row 'b'\n"
     ]
    },
    {
     "data": {
      "text/plain": [
       "one        2\n",
       "bar        2\n",
       "three      4\n",
       "foo      bar\n",
       "Name: b, dtype: object"
      ]
     },
     "execution_count": 25,
     "metadata": {},
     "output_type": "execute_result"
    }
   ],
   "source": [
    "print (df)\n",
    "print (\"Selecting row 'b'\")\n",
    "df.loc['b']"
   ]
  },
  {
   "cell_type": "code",
   "execution_count": 26,
   "metadata": {
    "slideshow": {
     "slide_type": "fragment"
    }
   },
   "outputs": [
    {
     "name": "stdout",
     "output_type": "stream",
     "text": [
      "   one  bar  three  foo\n",
      "a  1.0  1.0    1.0  bar\n",
      "b  2.0  2.0    4.0  bar\n",
      "c  3.0  3.0    9.0  bar\n",
      "d  NaN  NaN    NaN  bar\n"
     ]
    }
   ],
   "source": [
    "#flexible indexing via .ix method\n",
    "print (df)"
   ]
  },
  {
   "cell_type": "code",
   "execution_count": 27,
   "metadata": {
    "slideshow": {
     "slide_type": "fragment"
    }
   },
   "outputs": [
    {
     "name": "stdout",
     "output_type": "stream",
     "text": [
      "   bar\n",
      "a  1.0\n",
      "b  2.0\n"
     ]
    }
   ],
   "source": [
    "print (df.ix[:2,1:2])#gives a data frame"
   ]
  },
  {
   "cell_type": "code",
   "execution_count": 28,
   "metadata": {
    "slideshow": {
     "slide_type": "fragment"
    }
   },
   "outputs": [
    {
     "name": "stdout",
     "output_type": "stream",
     "text": [
      "a    1.0\n",
      "b    2.0\n",
      "Name: bar, dtype: float64\n"
     ]
    }
   ],
   "source": [
    "print (df.ix[:2,1]) #gives a series"
   ]
  },
  {
   "cell_type": "code",
   "execution_count": 29,
   "metadata": {
    "slideshow": {
     "slide_type": "fragment"
    }
   },
   "outputs": [
    {
     "name": "stdout",
     "output_type": "stream",
     "text": [
      "a    1.0\n",
      "b    2.0\n",
      "Name: bar, dtype: float64\n"
     ]
    }
   ],
   "source": [
    "print (df.ix[:2,\"bar\"])#gives a sereies"
   ]
  },
  {
   "cell_type": "code",
   "execution_count": 30,
   "metadata": {
    "slideshow": {
     "slide_type": "fragment"
    }
   },
   "outputs": [
    {
     "name": "stdout",
     "output_type": "stream",
     "text": [
      "   bar\n",
      "a  1.0\n",
      "b  2.0\n"
     ]
    }
   ],
   "source": [
    "print (df.ix[:2,[\"bar\"]])#gives a data frame"
   ]
  },
  {
   "cell_type": "markdown",
   "metadata": {
    "slideshow": {
     "slide_type": "subslide"
    }
   },
   "source": [
    "**Boolean Masking and where()**\n",
    "\n",
    "As in Numpy, we can use masks for accessing data elements"
   ]
  },
  {
   "cell_type": "code",
   "execution_count": 31,
   "metadata": {
    "slideshow": {
     "slide_type": "fragment"
    }
   },
   "outputs": [
    {
     "name": "stdout",
     "output_type": "stream",
     "text": [
      "       a  b         c\n",
      "0    one  x  0.397209\n",
      "1    one  y -1.467602\n",
      "2    two  y  0.570070\n",
      "3  three  x  0.720559\n",
      "4    two  y -0.554544\n",
      "5    one  x -0.308509\n",
      "6    six  x -0.733021\n"
     ]
    }
   ],
   "source": [
    "df2 = pd.DataFrame({'a' : ['one','one','two','three','two','one','six'],\n",
    "                 'b' : ['x','y','y','x','y','x','x'],\n",
    "                 'c' : np.random.randn(7)})\n",
    "print (df2)\n",
    "criterion = df2['a'].map(lambda x: x.startswith('t')) #create a criterion using lambda function\n"
   ]
  },
  {
   "cell_type": "code",
   "execution_count": 32,
   "metadata": {
    "slideshow": {
     "slide_type": "fragment"
    }
   },
   "outputs": [
    {
     "name": "stdout",
     "output_type": "stream",
     "text": [
      "0    False\n",
      "1    False\n",
      "2     True\n",
      "3     True\n",
      "4     True\n",
      "5    False\n",
      "6    False\n",
      "Name: a, dtype: bool\n"
     ]
    }
   ],
   "source": [
    "print (criterion)"
   ]
  },
  {
   "cell_type": "code",
   "execution_count": 33,
   "metadata": {
    "slideshow": {
     "slide_type": "fragment"
    }
   },
   "outputs": [
    {
     "name": "stdout",
     "output_type": "stream",
     "text": [
      "       a  b         c\n",
      "2    two  y  0.570070\n",
      "3  three  x  0.720559\n",
      "4    two  y -0.554544\n"
     ]
    }
   ],
   "source": [
    "print (df2[criterion])"
   ]
  },
  {
   "cell_type": "code",
   "execution_count": 34,
   "metadata": {
    "slideshow": {
     "slide_type": "fragment"
    }
   },
   "outputs": [
    {
     "data": {
      "text/html": [
       "<div>\n",
       "<table border=\"1\" class=\"dataframe\">\n",
       "  <thead>\n",
       "    <tr style=\"text-align: right;\">\n",
       "      <th></th>\n",
       "      <th>a</th>\n",
       "      <th>b</th>\n",
       "      <th>c</th>\n",
       "    </tr>\n",
       "  </thead>\n",
       "  <tbody>\n",
       "    <tr>\n",
       "      <th>0</th>\n",
       "      <td>one</td>\n",
       "      <td>x</td>\n",
       "      <td>0.397209</td>\n",
       "    </tr>\n",
       "    <tr>\n",
       "      <th>5</th>\n",
       "      <td>one</td>\n",
       "      <td>x</td>\n",
       "      <td>-0.308509</td>\n",
       "    </tr>\n",
       "  </tbody>\n",
       "</table>\n",
       "</div>"
      ],
      "text/plain": [
       "     a  b         c\n",
       "0  one  x  0.397209\n",
       "5  one  x -0.308509"
      ]
     },
     "execution_count": 34,
     "metadata": {},
     "output_type": "execute_result"
    }
   ],
   "source": [
    "#disjunction of two filter criterions using bit-and\n",
    "df2[(df2['a']=='one')&(df2['b']=='x')]"
   ]
  },
  {
   "cell_type": "code",
   "execution_count": 35,
   "metadata": {
    "slideshow": {
     "slide_type": "fragment"
    }
   },
   "outputs": [
    {
     "name": "stdout",
     "output_type": "stream",
     "text": [
      "     ids   ids2   vals\n",
      "0   True   True   True\n",
      "1   True  False  False\n",
      "2  False  False   True\n",
      "3  False  False  False\n"
     ]
    }
   ],
   "source": [
    "#check for several values over all columns with isin\n",
    "df3 = pd.DataFrame({'vals': [1, 2, 3, 4], \n",
    "                    'ids': ['a', 'b', 'f', 'n'],\n",
    "                    'ids2': ['a', 'n', 'c', 'n']})\n",
    "\n",
    "values = ['a', 'b', 1, 3]\n",
    "print (df3.isin(values))"
   ]
  },
  {
   "cell_type": "code",
   "execution_count": 36,
   "metadata": {
    "slideshow": {
     "slide_type": "fragment"
    }
   },
   "outputs": [
    {
     "name": "stdout",
     "output_type": "stream",
     "text": [
      "0    0.397209\n",
      "1   -1.467602\n",
      "2    0.570070\n",
      "3    0.720559\n",
      "4   -0.554544\n",
      "5   -0.308509\n",
      "6   -0.733021\n",
      "Name: c, dtype: float64\n",
      "0    0.397209\n",
      "1         NaN\n",
      "2    0.570070\n",
      "3    0.720559\n",
      "4         NaN\n",
      "5         NaN\n",
      "6         NaN\n",
      "Name: c, dtype: float64\n"
     ]
    }
   ],
   "source": [
    "#with where we can guarantee the the shape stays the same\n",
    "s=df2['c']\n",
    "print (s)\n",
    "print (s.where(s>0))"
   ]
  },
  {
   "cell_type": "markdown",
   "metadata": {
    "slideshow": {
     "slide_type": "subslide"
    }
   },
   "source": [
    "**Data alignment and arithmetic**\n",
    "\n",
    "DataFrame objects automatically align on both the columns and the index (row labels). Again, the resulting object will have the union of the column and row labels."
   ]
  },
  {
   "cell_type": "code",
   "execution_count": 37,
   "metadata": {
    "slideshow": {
     "slide_type": "fragment"
    }
   },
   "outputs": [
    {
     "name": "stdout",
     "output_type": "stream",
     "text": [
      "          A         B         C   D\n",
      "0 -2.397290  0.053219 -0.560677 NaN\n",
      "1  1.021603 -0.297019  0.548527 NaN\n",
      "2 -0.349425  1.610391  1.738908 NaN\n",
      "3 -1.234902  0.076946 -1.662344 NaN\n",
      "4 -1.572823 -0.686018  0.662440 NaN\n",
      "5  0.608798 -1.111543 -1.354657 NaN\n",
      "6  1.582757 -0.395040  0.761686 NaN\n",
      "7       NaN       NaN       NaN NaN\n",
      "8       NaN       NaN       NaN NaN\n",
      "9       NaN       NaN       NaN NaN\n"
     ]
    }
   ],
   "source": [
    "df = pd.DataFrame(np.random.randn(10, 4), columns=['A', 'B', 'C', 'D']) \n",
    "df2 = pd.DataFrame(np.random.randn(7, 3), columns=['A', 'B', 'C'])\n",
    "print (df + df2)"
   ]
  },
  {
   "cell_type": "markdown",
   "metadata": {
    "slideshow": {
     "slide_type": "subslide"
    }
   },
   "source": [
    "** Broadcasting behaviour**\n",
    "\n",
    "When doing an operation between DataFrame and Series, the default behavior is to align the Series index on the DataFrame columns, thus broadcasting row-wise. \n"
   ]
  },
  {
   "cell_type": "code",
   "execution_count": 38,
   "metadata": {
    "slideshow": {
     "slide_type": "fragment"
    }
   },
   "outputs": [
    {
     "name": "stdout",
     "output_type": "stream",
     "text": [
      "          A         B         C         D\n",
      "0 -1.193378  0.362220 -0.185914  1.408487\n",
      "1  0.713218  0.052878 -0.090530 -1.129024\n",
      "2 -1.014749  0.412556  0.382431  0.740610\n",
      "3 -2.029758 -0.486587 -1.354926 -0.115527\n",
      "4 -0.846842 -0.588906  0.464537 -1.063856\n",
      "5  1.096341 -1.216381 -0.926981 -1.840147\n",
      "6 -0.573001  0.452942 -0.264215 -0.126698\n",
      "7  0.382752  1.332689  1.002710  1.080878\n",
      "8 -0.028819  0.372059  1.438581 -1.367700\n",
      "9 -0.605105  0.527056  0.017148 -1.712500\n",
      "==========================================\n",
      "A   -1.193378\n",
      "B    0.362220\n",
      "C   -0.185914\n",
      "D    1.408487\n",
      "Name: 0, dtype: float64\n",
      "==========================================\n",
      "          A         B         C         D\n",
      "0  0.000000  0.000000  0.000000  0.000000\n",
      "1  1.906595 -0.309343  0.095384 -2.537511\n",
      "2  0.178629  0.050336  0.568345 -0.667877\n",
      "3 -0.836381 -0.848807 -1.169012 -1.524014\n",
      "4  0.346535 -0.951127  0.650451 -2.472343\n",
      "5  2.289719 -1.578602 -0.741067 -3.248634\n",
      "6  0.620377  0.090721 -0.078300 -1.535185\n",
      "7  1.576130  0.970468  1.188624 -0.327609\n",
      "8  1.164559  0.009838  1.624495 -2.776186\n",
      "9  0.588272  0.164836  0.203062 -3.120987\n"
     ]
    }
   ],
   "source": [
    "print (df)\n",
    "print (\"==========================================\")\n",
    "print (df.iloc[0])\n",
    "print (\"==========================================\")\n",
    "print (df-df.iloc[0])"
   ]
  },
  {
   "cell_type": "code",
   "execution_count": 39,
   "metadata": {
    "slideshow": {
     "slide_type": "fragment"
    }
   },
   "outputs": [
    {
     "data": {
      "text/html": [
       "<div>\n",
       "<table border=\"1\" class=\"dataframe\">\n",
       "  <thead>\n",
       "    <tr style=\"text-align: right;\">\n",
       "      <th></th>\n",
       "      <th>A</th>\n",
       "      <th>B</th>\n",
       "      <th>C</th>\n",
       "      <th>D</th>\n",
       "    </tr>\n",
       "  </thead>\n",
       "  <tbody>\n",
       "    <tr>\n",
       "      <th>0</th>\n",
       "      <td>-2.386755</td>\n",
       "      <td>0.724440</td>\n",
       "      <td>-0.371828</td>\n",
       "      <td>2.816974</td>\n",
       "    </tr>\n",
       "    <tr>\n",
       "      <th>1</th>\n",
       "      <td>1.426435</td>\n",
       "      <td>0.105755</td>\n",
       "      <td>-0.181060</td>\n",
       "      <td>-2.258048</td>\n",
       "    </tr>\n",
       "    <tr>\n",
       "      <th>2</th>\n",
       "      <td>-2.029498</td>\n",
       "      <td>0.825112</td>\n",
       "      <td>0.764862</td>\n",
       "      <td>1.481221</td>\n",
       "    </tr>\n",
       "    <tr>\n",
       "      <th>3</th>\n",
       "      <td>-4.059516</td>\n",
       "      <td>-0.973174</td>\n",
       "      <td>-2.709852</td>\n",
       "      <td>-0.231054</td>\n",
       "    </tr>\n",
       "    <tr>\n",
       "      <th>4</th>\n",
       "      <td>-1.693685</td>\n",
       "      <td>-1.177813</td>\n",
       "      <td>0.929074</td>\n",
       "      <td>-2.127712</td>\n",
       "    </tr>\n",
       "    <tr>\n",
       "      <th>5</th>\n",
       "      <td>2.192683</td>\n",
       "      <td>-2.432763</td>\n",
       "      <td>-1.853962</td>\n",
       "      <td>-3.680294</td>\n",
       "    </tr>\n",
       "    <tr>\n",
       "      <th>6</th>\n",
       "      <td>-1.146001</td>\n",
       "      <td>0.905883</td>\n",
       "      <td>-0.528429</td>\n",
       "      <td>-0.253396</td>\n",
       "    </tr>\n",
       "    <tr>\n",
       "      <th>7</th>\n",
       "      <td>0.765504</td>\n",
       "      <td>2.665377</td>\n",
       "      <td>2.005420</td>\n",
       "      <td>2.161757</td>\n",
       "    </tr>\n",
       "    <tr>\n",
       "      <th>8</th>\n",
       "      <td>-0.057637</td>\n",
       "      <td>0.744117</td>\n",
       "      <td>2.877161</td>\n",
       "      <td>-2.735399</td>\n",
       "    </tr>\n",
       "    <tr>\n",
       "      <th>9</th>\n",
       "      <td>-1.210211</td>\n",
       "      <td>1.054112</td>\n",
       "      <td>0.034296</td>\n",
       "      <td>-3.425001</td>\n",
       "    </tr>\n",
       "  </tbody>\n",
       "</table>\n",
       "</div>"
      ],
      "text/plain": [
       "          A         B         C         D\n",
       "0 -2.386755  0.724440 -0.371828  2.816974\n",
       "1  1.426435  0.105755 -0.181060 -2.258048\n",
       "2 -2.029498  0.825112  0.764862  1.481221\n",
       "3 -4.059516 -0.973174 -2.709852 -0.231054\n",
       "4 -1.693685 -1.177813  0.929074 -2.127712\n",
       "5  2.192683 -2.432763 -1.853962 -3.680294\n",
       "6 -1.146001  0.905883 -0.528429 -0.253396\n",
       "7  0.765504  2.665377  2.005420  2.161757\n",
       "8 -0.057637  0.744117  2.877161 -2.735399\n",
       "9 -1.210211  1.054112  0.034296 -3.425001"
      ]
     },
     "execution_count": 39,
     "metadata": {},
     "output_type": "execute_result"
    }
   ],
   "source": [
    "#broadcasting with scalars as in numpy\n",
    "df*2"
   ]
  },
  {
   "cell_type": "markdown",
   "metadata": {
    "slideshow": {
     "slide_type": "fragment"
    }
   },
   "source": [
    "When working with time series (`TimeSeries`) broadcasting is done column wise. However this function is **deprecated**"
   ]
  },
  {
   "cell_type": "code",
   "execution_count": 40,
   "metadata": {
    "slideshow": {
     "slide_type": "fragment"
    }
   },
   "outputs": [
    {
     "name": "stdout",
     "output_type": "stream",
     "text": [
      "                   A         B         C\n",
      "2000-01-01  0.510118  3.889524  1.923528\n",
      "2000-01-02  1.475033  1.904546  0.130995\n",
      "2000-01-03 -1.617337  0.054794  0.989100\n",
      "2000-01-04  0.531948  0.064584  1.184315\n",
      "2000-01-05  0.073592 -0.258974 -2.469773\n",
      "2000-01-06  0.425837 -0.821244 -1.563358\n",
      "2000-01-07  0.362407  0.265029  1.022454\n",
      "2000-01-08  1.488831 -0.257652 -0.040991\n"
     ]
    }
   ],
   "source": [
    "index = pd.date_range('1/1/2000', periods=8)\n",
    "df = pd.DataFrame(np.random.randn(8, 3), index=index, columns=list('ABC'))\n",
    "print (df)"
   ]
  },
  {
   "cell_type": "code",
   "execution_count": 41,
   "metadata": {
    "slideshow": {
     "slide_type": "fragment"
    }
   },
   "outputs": [
    {
     "name": "stdout",
     "output_type": "stream",
     "text": [
      "            2000-01-01 00:00:00  2000-01-02 00:00:00  2000-01-03 00:00:00  \\\n",
      "2000-01-01                  NaN                  NaN                  NaN   \n",
      "2000-01-02                  NaN                  NaN                  NaN   \n",
      "2000-01-03                  NaN                  NaN                  NaN   \n",
      "2000-01-04                  NaN                  NaN                  NaN   \n",
      "2000-01-05                  NaN                  NaN                  NaN   \n",
      "2000-01-06                  NaN                  NaN                  NaN   \n",
      "2000-01-07                  NaN                  NaN                  NaN   \n",
      "2000-01-08                  NaN                  NaN                  NaN   \n",
      "\n",
      "            2000-01-04 00:00:00  2000-01-05 00:00:00  2000-01-06 00:00:00  \\\n",
      "2000-01-01                  NaN                  NaN                  NaN   \n",
      "2000-01-02                  NaN                  NaN                  NaN   \n",
      "2000-01-03                  NaN                  NaN                  NaN   \n",
      "2000-01-04                  NaN                  NaN                  NaN   \n",
      "2000-01-05                  NaN                  NaN                  NaN   \n",
      "2000-01-06                  NaN                  NaN                  NaN   \n",
      "2000-01-07                  NaN                  NaN                  NaN   \n",
      "2000-01-08                  NaN                  NaN                  NaN   \n",
      "\n",
      "            2000-01-07 00:00:00  2000-01-08 00:00:00   A   B   C  \n",
      "2000-01-01                  NaN                  NaN NaN NaN NaN  \n",
      "2000-01-02                  NaN                  NaN NaN NaN NaN  \n",
      "2000-01-03                  NaN                  NaN NaN NaN NaN  \n",
      "2000-01-04                  NaN                  NaN NaN NaN NaN  \n",
      "2000-01-05                  NaN                  NaN NaN NaN NaN  \n",
      "2000-01-06                  NaN                  NaN NaN NaN NaN  \n",
      "2000-01-07                  NaN                  NaN NaN NaN NaN  \n",
      "2000-01-08                  NaN                  NaN NaN NaN NaN  \n"
     ]
    }
   ],
   "source": [
    "print (df - df['A'])"
   ]
  },
  {
   "cell_type": "markdown",
   "metadata": {
    "slideshow": {
     "slide_type": "subslide"
    }
   },
   "source": [
    "**Transposing a Data Frame**\n"
   ]
  },
  {
   "cell_type": "code",
   "execution_count": 42,
   "metadata": {
    "slideshow": {
     "slide_type": "fragment"
    }
   },
   "outputs": [
    {
     "name": "stdout",
     "output_type": "stream",
     "text": [
      "                   A         B         C\n",
      "2000-01-01  0.510118  3.889524  1.923528\n",
      "2000-01-02  1.475033  1.904546  0.130995\n",
      "2000-01-03 -1.617337  0.054794  0.989100\n",
      "2000-01-04  0.531948  0.064584  1.184315\n",
      "2000-01-05  0.073592 -0.258974 -2.469773\n",
      "   2000-01-01  2000-01-02  2000-01-03  2000-01-04  2000-01-05\n",
      "A    0.510118    1.475033   -1.617337    0.531948    0.073592\n",
      "B    3.889524    1.904546    0.054794    0.064584   -0.258974\n",
      "C    1.923528    0.130995    0.989100    1.184315   -2.469773\n"
     ]
    }
   ],
   "source": [
    "print (df[:5])\n",
    "print (df[:5].T)"
   ]
  },
  {
   "cell_type": "markdown",
   "metadata": {
    "slideshow": {
     "slide_type": "subslide"
    }
   },
   "source": [
    "**Compatibility with Numpy**\n",
    "\n",
    "Given numeric values, numpy element wise functions can be used"
   ]
  },
  {
   "cell_type": "code",
   "execution_count": 43,
   "metadata": {
    "slideshow": {
     "slide_type": "fragment"
    }
   },
   "outputs": [
    {
     "name": "stdout",
     "output_type": "stream",
     "text": [
      "                   A         B         C\n",
      "2000-01-01  0.510118  3.889524  1.923528\n",
      "2000-01-02  1.475033  1.904546  0.130995\n",
      "2000-01-03 -1.617337  0.054794  0.989100\n",
      "2000-01-04  0.531948  0.064584  1.184315\n",
      "2000-01-05  0.073592 -0.258974 -2.469773\n",
      "2000-01-06  0.425837 -0.821244 -1.563358\n",
      "2000-01-07  0.362407  0.265029  1.022454\n",
      "2000-01-08  1.488831 -0.257652 -0.040991\n",
      "                   A          B         C\n",
      "2000-01-01  1.665488  48.887623  6.845063\n",
      "2000-01-02  4.371179   6.716359  1.139962\n",
      "2000-01-03  0.198426   1.056323  2.688814\n",
      "2000-01-04  1.702246   1.066715  3.268448\n",
      "2000-01-05  1.076367   0.771843  0.084604\n",
      "2000-01-06  1.530871   0.439884  0.209432\n",
      "2000-01-07  1.436783   1.303469  2.780009\n",
      "2000-01-08  4.431913   0.772864  0.959838\n"
     ]
    }
   ],
   "source": [
    "print (df)\n",
    "print (np.exp(df))"
   ]
  },
  {
   "cell_type": "markdown",
   "metadata": {
    "slideshow": {
     "slide_type": "slide"
    }
   },
   "source": [
    "## 3 Basic Functionality\n",
    "\n",
    "* Accessing head and tails via `DataFrame.head` and `DataFrame.tail`\n",
    "* Explicit arithmetic operations:  `DataFrame.add`, `DataFrame.sub` etc. allow to control broadcasting and value filling\n",
    "* DataFrame comparators: `DataFrame.gt`, `DataFrame.ne` etc.\n",
    "* Boolean reductions: `DataFrame.all()`, `DataFrame.any()``\n",
    "\n"
   ]
  },
  {
   "cell_type": "markdown",
   "metadata": {
    "slideshow": {
     "slide_type": "subslide"
    }
   },
   "source": [
    "## 3.1 Head and Tail\n",
    "\n",
    "Viewing long series/data frames"
   ]
  },
  {
   "cell_type": "code",
   "execution_count": 44,
   "metadata": {
    "slideshow": {
     "slide_type": "fragment"
    }
   },
   "outputs": [
    {
     "name": "stdout",
     "output_type": "stream",
     "text": [
      "0   -0.653285\n",
      "1   -0.865533\n",
      "2   -0.361412\n",
      "3   -0.220708\n",
      "4    0.225272\n",
      "dtype: float64\n"
     ]
    }
   ],
   "source": [
    "long_series = pd.Series(np.random.randn(1000))\n",
    "print (long_series.head())"
   ]
  },
  {
   "cell_type": "code",
   "execution_count": 45,
   "metadata": {
    "slideshow": {
     "slide_type": "fragment"
    }
   },
   "outputs": [
    {
     "name": "stdout",
     "output_type": "stream",
     "text": [
      "995    1.541859\n",
      "996    0.291662\n",
      "997   -0.961986\n",
      "998    0.101844\n",
      "999    0.234632\n",
      "dtype: float64\n"
     ]
    }
   ],
   "source": [
    "print (long_series.tail())"
   ]
  },
  {
   "cell_type": "code",
   "execution_count": 46,
   "metadata": {
    "slideshow": {
     "slide_type": "fragment"
    }
   },
   "outputs": [
    {
     "name": "stdout",
     "output_type": "stream",
     "text": [
      "0     -0.653285\n",
      "1     -0.865533\n",
      "2     -0.361412\n",
      "3     -0.220708\n",
      "4      0.225272\n",
      "5     -1.416084\n",
      "6      0.100536\n",
      "7      1.821810\n",
      "8     -0.025045\n",
      "9     -0.455368\n",
      "10     0.971690\n",
      "11    -1.701802\n",
      "12     2.788344\n",
      "13     0.186438\n",
      "14    -1.563145\n",
      "15     0.582845\n",
      "16    -0.834318\n",
      "17    -0.506008\n",
      "18     0.015123\n",
      "19     0.847408\n",
      "20    -0.131787\n",
      "21    -0.550609\n",
      "22    -1.027453\n",
      "23     0.848934\n",
      "24    -0.691227\n",
      "25     0.451914\n",
      "26     0.491481\n",
      "27     0.291125\n",
      "28    -0.613710\n",
      "29     1.689074\n",
      "         ...   \n",
      "970    0.383880\n",
      "971   -0.229128\n",
      "972    0.854397\n",
      "973   -0.408504\n",
      "974   -0.213414\n",
      "975    0.218063\n",
      "976   -0.701190\n",
      "977   -0.607696\n",
      "978    1.895958\n",
      "979   -0.619735\n",
      "980    0.135332\n",
      "981    1.017930\n",
      "982    0.814764\n",
      "983    0.848620\n",
      "984   -0.051340\n",
      "985    1.280587\n",
      "986   -0.178101\n",
      "987   -1.042671\n",
      "988    2.137616\n",
      "989    1.389060\n",
      "990   -0.172996\n",
      "991    0.225781\n",
      "992   -0.256933\n",
      "993    0.495566\n",
      "994   -0.924152\n",
      "995    1.541859\n",
      "996    0.291662\n",
      "997   -0.961986\n",
      "998    0.101844\n",
      "999    0.234632\n",
      "dtype: float64\n"
     ]
    }
   ],
   "source": [
    "print (long_series)# see reduce printing behaviour"
   ]
  },
  {
   "cell_type": "markdown",
   "metadata": {
    "slideshow": {
     "slide_type": "slide"
    }
   },
   "source": [
    "#4. Descriptive Statistics\n",
    "\n",
    "Descriptive Statistics sumarizes the underlying distribution of data values through statistical values like mean, variance etc."
   ]
  },
  {
   "cell_type": "markdown",
   "metadata": {
    "slideshow": {
     "slide_type": "slide"
    }
   },
   "source": [
    "##4.1 Basic Functions\n",
    "\n",
    "<table>\n",
    "<tr><td>Function</td><td>Description</td>\n",
    "<tr><td>count</td><td>Number of non-null observations</td>\n",
    "<tr><td>sum</td><td>Sum of values</td>\n",
    "<tr><td>mean</td><td>Mean of values</td>\n",
    "<tr><td>mad</td><td>Mean absolute deviation</td>\n",
    "<tr><td>median</td><td>Arithmetic median of values</td>\n",
    "<tr><td>min</td><td>Minimum</td>\n",
    "<tr><td>max</td><td>Maximum</td>\n",
    "<tr><td>mode</td><td>Mode</td>\n",
    "<tr><td>abs</td><td>Absolute Value</td>\n",
    "<tr><td>prod</td><td>Product of values</td>\n",
    "<tr><td>std</td><td>Unbiased standard deviation</td>\n",
    "<tr><td>var</td><td>Unbiased variance</td>\n",
    "<tr><td>skew</td><td>Unbiased skewness (3rd moment)</td>\n",
    "<tr><td>kurt</td><td>Unbiased kurtosis (4th moment)</td>\n",
    "<tr><td>quantile</td><td>Sample quantile (value at %)</td>\n",
    "<tr><td>cumsum</td><td>Cumulative sum</td>\n",
    "<tr><td>cumprod</td><td>Cumulative product</td>\n",
    "<tr><td>cummax</td><td>Cumulative maximum</td>\n",
    "<tr><td>cummin</td><td>Cumulative minimum</td>\n",
    "</table>\n"
   ]
  },
  {
   "cell_type": "code",
   "execution_count": 47,
   "metadata": {
    "slideshow": {
     "slide_type": "fragment"
    }
   },
   "outputs": [
    {
     "name": "stdout",
     "output_type": "stream",
     "text": [
      "                   A         B         C\n",
      "2000-01-01  0.510118  3.889524  1.923528\n",
      "2000-01-02  1.475033  1.904546  0.130995\n",
      "2000-01-03 -1.617337  0.054794  0.989100\n",
      "2000-01-04  0.531948  0.064584  1.184315\n",
      "2000-01-05  0.073592 -0.258974 -2.469773\n",
      "2000-01-06  0.425837 -0.821244 -1.563358\n",
      "2000-01-07  0.362407  0.265029  1.022454\n",
      "2000-01-08  1.488831 -0.257652 -0.040991\n"
     ]
    }
   ],
   "source": [
    "print (df)"
   ]
  },
  {
   "cell_type": "code",
   "execution_count": 48,
   "metadata": {
    "slideshow": {
     "slide_type": "fragment"
    }
   },
   "outputs": [
    {
     "name": "stdout",
     "output_type": "stream",
     "text": [
      "A    1.488831\n",
      "B    3.889524\n",
      "C    1.923528\n",
      "dtype: float64\n",
      "========================================\n",
      "2000-01-01    3.889524\n",
      "2000-01-02    1.904546\n",
      "2000-01-03    0.989100\n",
      "2000-01-04    1.184315\n",
      "2000-01-05    0.073592\n",
      "2000-01-06    0.425837\n",
      "2000-01-07    1.022454\n",
      "2000-01-08    1.488831\n",
      "Freq: D, dtype: float64\n"
     ]
    }
   ],
   "source": [
    "#some examples\n",
    "print (df.max())\n",
    "print (\"========================================\")\n",
    "print (df.max(axis=1))"
   ]
  },
  {
   "cell_type": "markdown",
   "metadata": {
    "slideshow": {
     "slide_type": "subslide"
    }
   },
   "source": [
    "##4.2 Describe\n",
    "\n",
    "`describe` summarizes a DataFrame"
   ]
  },
  {
   "cell_type": "code",
   "execution_count": 49,
   "metadata": {
    "slideshow": {
     "slide_type": "fragment"
    }
   },
   "outputs": [
    {
     "data": {
      "text/html": [
       "<div>\n",
       "<table border=\"1\" class=\"dataframe\">\n",
       "  <thead>\n",
       "    <tr style=\"text-align: right;\">\n",
       "      <th></th>\n",
       "      <th>A</th>\n",
       "      <th>B</th>\n",
       "      <th>C</th>\n",
       "    </tr>\n",
       "  </thead>\n",
       "  <tbody>\n",
       "    <tr>\n",
       "      <th>count</th>\n",
       "      <td>8.000000</td>\n",
       "      <td>8.000000</td>\n",
       "      <td>8.000000</td>\n",
       "    </tr>\n",
       "    <tr>\n",
       "      <th>mean</th>\n",
       "      <td>0.406304</td>\n",
       "      <td>0.605076</td>\n",
       "      <td>0.147034</td>\n",
       "    </tr>\n",
       "    <tr>\n",
       "      <th>std</th>\n",
       "      <td>0.967230</td>\n",
       "      <td>1.545134</td>\n",
       "      <td>1.488818</td>\n",
       "    </tr>\n",
       "    <tr>\n",
       "      <th>min</th>\n",
       "      <td>-1.617337</td>\n",
       "      <td>-0.821244</td>\n",
       "      <td>-2.469773</td>\n",
       "    </tr>\n",
       "    <tr>\n",
       "      <th>25%</th>\n",
       "      <td>0.290203</td>\n",
       "      <td>-0.257983</td>\n",
       "      <td>-0.421583</td>\n",
       "    </tr>\n",
       "    <tr>\n",
       "      <th>50%</th>\n",
       "      <td>0.467978</td>\n",
       "      <td>0.059689</td>\n",
       "      <td>0.560048</td>\n",
       "    </tr>\n",
       "    <tr>\n",
       "      <th>75%</th>\n",
       "      <td>0.767719</td>\n",
       "      <td>0.674908</td>\n",
       "      <td>1.062919</td>\n",
       "    </tr>\n",
       "    <tr>\n",
       "      <th>max</th>\n",
       "      <td>1.488831</td>\n",
       "      <td>3.889524</td>\n",
       "      <td>1.923528</td>\n",
       "    </tr>\n",
       "  </tbody>\n",
       "</table>\n",
       "</div>"
      ],
      "text/plain": [
       "              A         B         C\n",
       "count  8.000000  8.000000  8.000000\n",
       "mean   0.406304  0.605076  0.147034\n",
       "std    0.967230  1.545134  1.488818\n",
       "min   -1.617337 -0.821244 -2.469773\n",
       "25%    0.290203 -0.257983 -0.421583\n",
       "50%    0.467978  0.059689  0.560048\n",
       "75%    0.767719  0.674908  1.062919\n",
       "max    1.488831  3.889524  1.923528"
      ]
     },
     "execution_count": 49,
     "metadata": {},
     "output_type": "execute_result"
    }
   ],
   "source": [
    "df.describe()"
   ]
  },
  {
   "cell_type": "markdown",
   "metadata": {
    "slideshow": {
     "slide_type": "subslide"
    }
   },
   "source": [
    "## 4.3 Index  of min and max"
   ]
  },
  {
   "cell_type": "code",
   "execution_count": 50,
   "metadata": {
    "slideshow": {
     "slide_type": "fragment"
    }
   },
   "outputs": [
    {
     "name": "stdout",
     "output_type": "stream",
     "text": [
      "                   A         B         C\n",
      "2000-01-01  0.510118  3.889524  1.923528\n",
      "2000-01-02  1.475033  1.904546  0.130995\n",
      "2000-01-03 -1.617337  0.054794  0.989100\n",
      "2000-01-04  0.531948  0.064584  1.184315\n",
      "2000-01-05  0.073592 -0.258974 -2.469773\n",
      "2000-01-06  0.425837 -0.821244 -1.563358\n",
      "2000-01-07  0.362407  0.265029  1.022454\n",
      "2000-01-08  1.488831 -0.257652 -0.040991\n"
     ]
    }
   ],
   "source": [
    "print (df)"
   ]
  },
  {
   "cell_type": "code",
   "execution_count": 51,
   "metadata": {
    "slideshow": {
     "slide_type": "fragment"
    }
   },
   "outputs": [
    {
     "name": "stdout",
     "output_type": "stream",
     "text": [
      "A   2000-01-08\n",
      "B   2000-01-01\n",
      "C   2000-01-01\n",
      "dtype: datetime64[ns]\n",
      "============================\n",
      "A   2000-01-03\n",
      "B   2000-01-06\n",
      "C   2000-01-05\n",
      "dtype: datetime64[ns]\n",
      "============================\n",
      "2000-01-01    B\n",
      "2000-01-02    B\n",
      "2000-01-03    C\n",
      "2000-01-04    C\n",
      "2000-01-05    A\n",
      "2000-01-06    A\n",
      "2000-01-07    C\n",
      "2000-01-08    A\n",
      "Freq: D, dtype: object\n",
      "============================\n",
      "2000-01-01    A\n",
      "2000-01-02    C\n",
      "2000-01-03    A\n",
      "2000-01-04    B\n",
      "2000-01-05    C\n",
      "2000-01-06    C\n",
      "2000-01-07    B\n",
      "2000-01-08    B\n",
      "Freq: D, dtype: object\n"
     ]
    }
   ],
   "source": [
    "print (df.idxmax(axis=0))\n",
    "print (\"============================\")\n",
    "print (df.idxmin(axis=0))\n",
    "print (\"============================\")\n",
    "print (df.idxmax(axis=1))\n",
    "print (\"============================\")\n",
    "print (df.idxmin(axis=1))\n"
   ]
  },
  {
   "cell_type": "markdown",
   "metadata": {
    "slideshow": {
     "slide_type": "subslide"
    }
   },
   "source": [
    "##4.4 Histogram\n",
    "\n",
    "`value_counts()`allows to count the histogram"
   ]
  },
  {
   "cell_type": "code",
   "execution_count": 52,
   "metadata": {
    "slideshow": {
     "slide_type": "fragment"
    }
   },
   "outputs": [
    {
     "name": "stdout",
     "output_type": "stream",
     "text": [
      "6    9\n",
      "4    9\n",
      "5    8\n",
      "2    7\n",
      "3    6\n",
      "0    6\n",
      "1    5\n",
      "dtype: int64\n"
     ]
    }
   ],
   "source": [
    "data = np.random.randint(0, 7, size=50)\n",
    "s = pd.Series(data)\n",
    "print (s.value_counts())"
   ]
  },
  {
   "cell_type": "markdown",
   "metadata": {
    "slideshow": {
     "slide_type": "slide"
    }
   },
   "source": [
    "# 5 Group By\n",
    "\n",
    "Pandas supports grouping data frames for particular columns similar to a SQL group by clause."
   ]
  },
  {
   "cell_type": "code",
   "execution_count": 53,
   "metadata": {
    "slideshow": {
     "slide_type": "fragment"
    }
   },
   "outputs": [
    {
     "name": "stdout",
     "output_type": "stream",
     "text": [
      "Help on method groupby in module pandas.core.generic:\n",
      "\n",
      "groupby(by=None, axis=0, level=None, as_index=True, sort=True, group_keys=True, squeeze=False, **kwargs) method of pandas.core.frame.DataFrame instance\n",
      "    Group series using mapper (dict or key function, apply given function\n",
      "    to group, return result as series) or by a series of columns.\n",
      "    \n",
      "    Parameters\n",
      "    ----------\n",
      "    by : mapping function / list of functions, dict, Series, or tuple /\n",
      "        list of column names.\n",
      "        Called on each element of the object index to determine the groups.\n",
      "        If a dict or Series is passed, the Series or dict VALUES will be\n",
      "        used to determine the groups\n",
      "    axis : int, default 0\n",
      "    level : int, level name, or sequence of such, default None\n",
      "        If the axis is a MultiIndex (hierarchical), group by a particular\n",
      "        level or levels\n",
      "    as_index : boolean, default True\n",
      "        For aggregated output, return object with group labels as the\n",
      "        index. Only relevant for DataFrame input. as_index=False is\n",
      "        effectively \"SQL-style\" grouped output\n",
      "    sort : boolean, default True\n",
      "        Sort group keys. Get better performance by turning this off.\n",
      "        Note this does not influence the order of observations within each\n",
      "        group.  groupby preserves the order of rows within each group.\n",
      "    group_keys : boolean, default True\n",
      "        When calling apply, add group keys to index to identify pieces\n",
      "    squeeze : boolean, default False\n",
      "        reduce the dimensionality of the return type if possible,\n",
      "        otherwise return a consistent type\n",
      "    \n",
      "    Examples\n",
      "    --------\n",
      "    DataFrame results\n",
      "    \n",
      "    >>> data.groupby(func, axis=0).mean()\n",
      "    >>> data.groupby(['col1', 'col2'])['col3'].mean()\n",
      "    \n",
      "    DataFrame with hierarchical index\n",
      "    \n",
      "    >>> data.groupby(['col1', 'col2']).mean()\n",
      "    \n",
      "    Returns\n",
      "    -------\n",
      "    GroupBy object\n",
      "\n"
     ]
    }
   ],
   "source": [
    "help(df.groupby)"
   ]
  },
  {
   "cell_type": "code",
   "execution_count": 54,
   "metadata": {
    "slideshow": {
     "slide_type": "fragment"
    }
   },
   "outputs": [
    {
     "name": "stdout",
     "output_type": "stream",
     "text": [
      "       a  b         c\n",
      "0    one  x -1.928164\n",
      "1    one  y -1.543005\n",
      "2    two  y -1.612611\n",
      "3  three  x -0.281879\n",
      "4    two  y -0.776053\n",
      "5    one  x  0.491386\n",
      "6    six  x  0.189380\n"
     ]
    }
   ],
   "source": [
    "df2 = pd.DataFrame({'a' : ['one','one','two','three','two','one','six'],\n",
    "                 'b' : ['x','y','y','x','y','x','x'],\n",
    "                 'c' : np.random.randn(7)})\n",
    "print (df2)\n"
   ]
  },
  {
   "cell_type": "code",
   "execution_count": 55,
   "metadata": {
    "slideshow": {
     "slide_type": "fragment"
    }
   },
   "outputs": [
    {
     "name": "stdout",
     "output_type": "stream",
     "text": [
      "<pandas.core.groupby.DataFrameGroupBy object at 0x7fcb6e237390>\n"
     ]
    }
   ],
   "source": [
    "print (df2.groupby('a')) #creates a groupby object"
   ]
  },
  {
   "cell_type": "code",
   "execution_count": 56,
   "metadata": {
    "slideshow": {
     "slide_type": "fragment"
    }
   },
   "outputs": [
    {
     "name": "stdout",
     "output_type": "stream",
     "text": [
      "              c\n",
      "a              \n",
      "one   -0.993261\n",
      "six    0.189380\n",
      "three -0.281879\n",
      "two   -1.194332\n"
     ]
    }
   ],
   "source": [
    "#gropuing requires an aggregate function\n",
    "print (df2.groupby('a').mean()) #creates a groupby object"
   ]
  },
  {
   "cell_type": "code",
   "execution_count": 57,
   "metadata": {
    "slideshow": {
     "slide_type": "fragment"
    }
   },
   "outputs": [
    {
     "name": "stdout",
     "output_type": "stream",
     "text": [
      "                c\n",
      "a     b          \n",
      "one   x -0.718389\n",
      "      y -1.543005\n",
      "six   x  0.189380\n",
      "three x -0.281879\n",
      "two   y -1.194332\n"
     ]
    }
   ],
   "source": [
    "#works on multiple levels\n",
    "print (df2.groupby(['a','b']).mean())"
   ]
  },
  {
   "cell_type": "markdown",
   "metadata": {
    "slideshow": {
     "slide_type": "slide"
    }
   },
   "source": [
    "# 6. IO Tools\n",
    "\n",
    "The Pandas I/O api is a set of top level reader functions accessed like `pd.read_csv()` that generally return a pandas object.\n",
    "* read_csv\n",
    "* read_excel\n",
    "* read_hdf\n",
    "* read_sql\n",
    "* read_json\n",
    "* read_msgpack (experimental) \n",
    "* read_html\n",
    "* read_gbq (experimental)\n",
    "* read_stata\n",
    "* read_clipboard\n",
    "* read_pickle\n",
    "\n",
    "The corresponding writer functions are object methods that are accessed like df.to_csv() • to_csv\n",
    "* to_excel\n",
    "* to_hdf\n",
    "* to_sql\n",
    "* to_json\n",
    "* to_msgpack (experimental) • to_html\n",
    "* to_gbq (experimental) • to_stata\n",
    "* to_clipboard\n",
    "* to_pickle\n"
   ]
  },
  {
   "cell_type": "markdown",
   "metadata": {
    "slideshow": {
     "slide_type": "subslide"
    }
   },
   "source": [
    "** Open Data Access **\n",
    "\n",
    "Further, pandas supports some open data APIs, namely\n",
    "\n",
    "* Yahoo! Finance\n",
    "* Google Finance\n",
    "* St. Louis FED (FRED)\n",
    "* Kenneth French’s data library \n",
    "* World Bank"
   ]
  },
  {
   "cell_type": "markdown",
   "metadata": {
    "slideshow": {
     "slide_type": "subslide"
    }
   },
   "source": [
    "#6.1 Loading the Weather Data from the CSV\n",
    "\n",
    "In this example we load the weather datafrom the data directory ( \"data\\weather_data.csv\") "
   ]
  },
  {
   "cell_type": "code",
   "execution_count": 58,
   "metadata": {
    "slideshow": {
     "slide_type": "fragment"
    }
   },
   "outputs": [
    {
     "name": "stdout",
     "output_type": "stream",
     "text": [
      "iris.dat  stockholm_td_adj.dat\tweather_data.csv\r\n"
     ]
    }
   ],
   "source": [
    "#! executes a shell command\n",
    "!ls data"
   ]
  },
  {
   "cell_type": "code",
   "execution_count": 59,
   "metadata": {
    "slideshow": {
     "slide_type": "fragment"
    }
   },
   "outputs": [
    {
     "name": "stdout",
     "output_type": "stream",
     "text": [
      "Day,outlook,temperature,humidity,windy,play\r\n",
      "1,sunny,85,85,false,no\r\n",
      "2,sunny,80,90,true,no\r\n",
      "3,overcast,83,86,false,yes\r\n",
      "4,rainy,70,96,false,yes\r\n",
      "5,rainy,68,80,false,yes\r\n",
      "6,rainy,65,70,true,no\r\n",
      "7,overcast,64,65,true,yes\r\n"
     ]
    }
   ],
   "source": [
    "!cat data/weather_data.csv"
   ]
  },
  {
   "cell_type": "code",
   "execution_count": 82,
   "metadata": {
    "scrolled": true,
    "slideshow": {
     "slide_type": "fragment"
    }
   },
   "outputs": [
    {
     "name": "stdout",
     "output_type": "stream",
     "text": [
      "   Day   outlook  temperature  humidity  windy play\n",
      "0    1     sunny           85        85  False   no\n",
      "1    2     sunny           80        90   True   no\n",
      "2    3  overcast           83        86  False  yes\n",
      "3    4     rainy           70        96  False  yes\n",
      "4    5     rainy           68        80  False  yes\n",
      "5    6     rainy           65        70   True   no\n",
      "6    7  overcast           64        65   True  yes\n"
     ]
    }
   ],
   "source": [
    "df = pd.read_csv(\"data/weather_data.csv\")\n",
    "print (df)"
   ]
  },
  {
   "cell_type": "code",
   "execution_count": 61,
   "metadata": {
    "slideshow": {
     "slide_type": "fragment"
    }
   },
   "outputs": [],
   "source": [
    "#use help to see the parameters \n",
    "pd.read_csv?"
   ]
  },
  {
   "cell_type": "markdown",
   "metadata": {
    "slideshow": {
     "slide_type": "slide"
    }
   },
   "source": [
    "## Exercise 6.1. Analysing New York City Open Data with Pandas\n",
    "\n",
    "Go to the exercise folder and conduct exercise 6.1."
   ]
  },
  {
   "cell_type": "markdown",
   "metadata": {
    "slideshow": {
     "slide_type": "slide"
    }
   },
   "source": [
    "# 7 Visualisations with Pandas\n",
    "\n",
    "Pandas has a number of build in visualisations using data frames.\n",
    "\n",
    "The default visualisations are build on top of mathplotlib (see  [Mathplotlib in a Nutshell](http://nbviewer.ipython.org/urls/raw.github.com/mgrani/LODA-lecture-notes-on-data-analysis/master/1.SP-in-Python/SPiP-5-Matplotlib.ipynb) for an introduction to Mathplotlib)\n",
    "\n",
    "Hence, `mathplotlib` has to be imported"
   ]
  },
  {
   "cell_type": "code",
   "execution_count": 62,
   "metadata": {
    "slideshow": {
     "slide_type": "fragment"
    }
   },
   "outputs": [],
   "source": [
    "import matplotlib.pyplot as plt"
   ]
  },
  {
   "cell_type": "code",
   "execution_count": 63,
   "metadata": {
    "slideshow": {
     "slide_type": "fragment"
    }
   },
   "outputs": [
    {
     "name": "stderr",
     "output_type": "stream",
     "text": [
      "/root/anaconda3/lib/python3.5/site-packages/IPython/core/interactiveshell.py:2881: FutureWarning: \n",
      "mpl_style had been deprecated and will be removed in a future version.\n",
      "Use `matplotlib.pyplot.style.use` instead.\n",
      "\n",
      "  exec(code_obj, self.user_global_ns, self.user_ns)\n"
     ]
    }
   ],
   "source": [
    "#to enable nicer plots\n",
    "pd.options.display.mpl_style = 'default'"
   ]
  },
  {
   "cell_type": "code",
   "execution_count": 64,
   "metadata": {
    "slideshow": {
     "slide_type": "fragment"
    }
   },
   "outputs": [
    {
     "name": "stdout",
     "output_type": "stream",
     "text": [
      "Populating the interactive namespace from numpy and matplotlib\n"
     ]
    }
   ],
   "source": [
    "#and enable to include plots inline in HTML\n",
    "%pylab inline"
   ]
  },
  {
   "cell_type": "markdown",
   "metadata": {
    "slideshow": {
     "slide_type": "subslide"
    }
   },
   "source": [
    "## 7.1 Basic Plotting: using `plot``\n",
    "\n",
    "The plot method on Series and DataFrame is just a simple wrapper around `plt.plot()`from the mathplotlib library\n",
    "￼￼"
   ]
  },
  {
   "cell_type": "code",
   "execution_count": 65,
   "metadata": {
    "slideshow": {
     "slide_type": "fragment"
    }
   },
   "outputs": [
    {
     "name": "stderr",
     "output_type": "stream",
     "text": [
      "/root/anaconda3/lib/python3.5/site-packages/matplotlib/font_manager.py:1297: UserWarning: findfont: Font family ['monospace'] not found. Falling back to DejaVu Sans\n",
      "  (prop.get_family(), self.defaultFamily[fontext]))\n"
     ]
    },
    {
     "data": {
      "image/png": "[encoded data removed]",
      "text/plain": [
       "<matplotlib.figure.Figure at 0x7fcb6b8535c0>"
      ]
     },
     "metadata": {},
     "output_type": "display_data"
    }
   ],
   "source": [
    "ts = pd.Series(np.random.randn(1000), index=pd.date_range('1/1/2000', periods=1000))\n",
    "ts = ts.cumsum() #cumulative sum\n",
    "ts.plot()\n",
    "ts.cumsum?"
   ]
  },
  {
   "cell_type": "code",
   "execution_count": 66,
   "metadata": {
    "slideshow": {
     "slide_type": "fragment"
    }
   },
   "outputs": [
    {
     "data": {
      "text/plain": [
       "<matplotlib.axes._subplots.AxesSubplot at 0x7fcb6821cba8>"
      ]
     },
     "execution_count": 66,
     "metadata": {},
     "output_type": "execute_result"
    },
    {
     "name": "stderr",
     "output_type": "stream",
     "text": [
      "/root/anaconda3/lib/python3.5/site-packages/matplotlib/font_manager.py:1297: UserWarning: findfont: Font family ['monospace'] not found. Falling back to DejaVu Sans\n",
      "  (prop.get_family(), self.defaultFamily[fontext]))\n"
     ]
    },
    {
     "data": {
      "image/png": "[encoded data removed]",
      "text/plain": [
       "<matplotlib.figure.Figure at 0x7fcb6829be10>"
      ]
     },
     "metadata": {},
     "output_type": "display_data"
    }
   ],
   "source": [
    "#Plotting a dataframe\n",
    "df = pd.DataFrame(np.random.randn(1000, 4), index=ts.index, columns=list('ABCD'))\n",
    "df=df.cumsum() #cumulative sum to make the plot visually more robust\n",
    "df.plot()"
   ]
  },
  {
   "cell_type": "code",
   "execution_count": 67,
   "metadata": {
    "slideshow": {
     "slide_type": "fragment"
    }
   },
   "outputs": [
    {
     "data": {
      "text/plain": [
       "<matplotlib.axes._subplots.AxesSubplot at 0x7fcb6809a9b0>"
      ]
     },
     "execution_count": 67,
     "metadata": {},
     "output_type": "execute_result"
    },
    {
     "name": "stderr",
     "output_type": "stream",
     "text": [
      "/root/anaconda3/lib/python3.5/site-packages/matplotlib/font_manager.py:1297: UserWarning: findfont: Font family ['monospace'] not found. Falling back to DejaVu Sans\n",
      "  (prop.get_family(), self.defaultFamily[fontext]))\n"
     ]
    },
    {
     "data": {
      "image/png": "[encoded data removed]",
      "text/plain": [
       "<matplotlib.figure.Figure at 0x7fcb680b6860>"
      ]
     },
     "metadata": {},
     "output_type": "display_data"
    }
   ],
   "source": [
    "df['A']=np.abs(df['A']).cumsum() # make A ever increasing\n",
    "df.plot(x='A',y='B') #Plot A vs. B"
   ]
  },
  {
   "cell_type": "markdown",
   "metadata": {
    "slideshow": {
     "slide_type": "subslide"
    }
   },
   "source": [
    "#7.2. Changing the plot `kind`\n",
    "\n",
    "The keyword argument `kind` of the plot function allows to change the plot type.\n",
    "\n",
    "Available types are:\n",
    "\n",
    "* `bar` or  `barh` for bar plots\n",
    "* `kde` or `density` for density plots\n",
    "* `area` for area plots\n",
    "* `scatter` for scater plots\n",
    "* `hexbin` for hexagonal bin plots\n",
    "* `pie` for pie pots\n",
    "\n",
    "In addition to these `kind`'s, there are the `DataFrame.hist()`, and `DataFrame.boxplot()` methods, which use a separate interface.\n",
    "\n",
    "Finally, there are several plotting functions in `pandas.tools.plotting`:\n",
    "* Scatter Matrix\n",
    "* Andrews Curves\n",
    "* Parallel Coordinates\n",
    "* Lag Plot\n",
    "* Autocorrelation Plot\n",
    "* Bootstrap Plot\n",
    "* RadViz\n"
   ]
  },
  {
   "cell_type": "markdown",
   "metadata": {
    "slideshow": {
     "slide_type": "subslide"
    }
   },
   "source": [
    "#### Bar Plots"
   ]
  },
  {
   "cell_type": "code",
   "execution_count": 68,
   "metadata": {
    "slideshow": {
     "slide_type": "fragment"
    }
   },
   "outputs": [
    {
     "data": {
      "text/plain": [
       "<matplotlib.lines.Line2D at 0x7fcb6823f6d8>"
      ]
     },
     "execution_count": 68,
     "metadata": {},
     "output_type": "execute_result"
    },
    {
     "name": "stderr",
     "output_type": "stream",
     "text": [
      "/root/anaconda3/lib/python3.5/site-packages/matplotlib/font_manager.py:1297: UserWarning: findfont: Font family ['monospace'] not found. Falling back to DejaVu Sans\n",
      "  (prop.get_family(), self.defaultFamily[fontext]))\n"
     ]
    },
    {
     "data": {
      "image/png": "[encoded data removed]",
      "text/plain": [
       "<matplotlib.figure.Figure at 0x7fcb6823f9e8>"
      ]
     },
     "metadata": {},
     "output_type": "display_data"
    }
   ],
   "source": [
    "df.ix[5].plot(kind='bar'); plt.axhline(0, color='k') "
   ]
  },
  {
   "cell_type": "code",
   "execution_count": 69,
   "metadata": {
    "slideshow": {
     "slide_type": "fragment"
    }
   },
   "outputs": [
    {
     "name": "stderr",
     "output_type": "stream",
     "text": [
      "/root/anaconda3/lib/python3.5/site-packages/matplotlib/font_manager.py:1297: UserWarning: findfont: Font family ['monospace'] not found. Falling back to DejaVu Sans\n",
      "  (prop.get_family(), self.defaultFamily[fontext]))\n"
     ]
    },
    {
     "data": {
      "image/png": "[encoded data removed]",
      "text/plain": [
       "<matplotlib.figure.Figure at 0x7fcb6e226e10>"
      ]
     },
     "metadata": {},
     "output_type": "display_data"
    }
   ],
   "source": [
    "#data frame\n",
    "df2 = pd.DataFrame(rand(10, 4), columns=['a', 'b', 'c', 'd'])\n",
    "df2.plot(kind='bar');"
   ]
  },
  {
   "cell_type": "code",
   "execution_count": 70,
   "metadata": {
    "slideshow": {
     "slide_type": "fragment"
    }
   },
   "outputs": [
    {
     "data": {
      "text/plain": [
       "<matplotlib.axes._subplots.AxesSubplot at 0x7fcb67f6c2b0>"
      ]
     },
     "execution_count": 70,
     "metadata": {},
     "output_type": "execute_result"
    },
    {
     "name": "stderr",
     "output_type": "stream",
     "text": [
      "/root/anaconda3/lib/python3.5/site-packages/matplotlib/font_manager.py:1297: UserWarning: findfont: Font family ['monospace'] not found. Falling back to DejaVu Sans\n",
      "  (prop.get_family(), self.defaultFamily[fontext]))\n"
     ]
    },
    {
     "data": {
      "image/png": "[encoded data removed]",
      "text/plain": [
       "<matplotlib.figure.Figure at 0x7fcb681c9780>"
      ]
     },
     "metadata": {},
     "output_type": "display_data"
    }
   ],
   "source": [
    "#stacked\n",
    "df2.plot(kind='bar',stacked=True)"
   ]
  },
  {
   "cell_type": "code",
   "execution_count": 71,
   "metadata": {
    "slideshow": {
     "slide_type": "fragment"
    }
   },
   "outputs": [
    {
     "data": {
      "text/plain": [
       "<matplotlib.axes._subplots.AxesSubplot at 0x7fcb67e733c8>"
      ]
     },
     "execution_count": 71,
     "metadata": {},
     "output_type": "execute_result"
    },
    {
     "name": "stderr",
     "output_type": "stream",
     "text": [
      "/root/anaconda3/lib/python3.5/site-packages/matplotlib/font_manager.py:1297: UserWarning: findfont: Font family ['monospace'] not found. Falling back to DejaVu Sans\n",
      "  (prop.get_family(), self.defaultFamily[fontext]))\n"
     ]
    },
    {
     "data": {
      "image/png": "[encoded data removed]",
      "text/plain": [
       "<matplotlib.figure.Figure at 0x7fcb67e02c50>"
      ]
     },
     "metadata": {},
     "output_type": "display_data"
    }
   ],
   "source": [
    "#stacked horizontal\n",
    "df2.plot(kind='barh',stacked=True)"
   ]
  },
  {
   "cell_type": "markdown",
   "metadata": {
    "slideshow": {
     "slide_type": "subslide"
    }
   },
   "source": [
    "#### Histograms"
   ]
  },
  {
   "cell_type": "code",
   "execution_count": 72,
   "metadata": {
    "slideshow": {
     "slide_type": "fragment"
    }
   },
   "outputs": [
    {
     "name": "stdout",
     "output_type": "stream",
     "text": [
      "2000-01-01         NaN\n",
      "2000-01-02    0.070913\n",
      "2000-01-03    0.133912\n",
      "2000-01-04    0.316185\n",
      "2000-01-05    1.616967\n",
      "2000-01-06    1.278182\n",
      "2000-01-07    1.790439\n",
      "2000-01-08    1.752253\n",
      "2000-01-09    2.207543\n",
      "2000-01-10    1.373701\n",
      "2000-01-11    0.852391\n",
      "2000-01-12    1.449482\n",
      "2000-01-13    1.778292\n",
      "2000-01-14    2.732603\n",
      "2000-01-15    1.696955\n",
      "2000-01-16    0.227658\n",
      "2000-01-17    1.026835\n",
      "2000-01-18    0.101492\n",
      "2000-01-19    1.344893\n",
      "2000-01-20    2.149443\n",
      "2000-01-21    2.392398\n",
      "2000-01-22    2.301847\n",
      "2000-01-23    0.934611\n",
      "2000-01-24    1.237767\n",
      "2000-01-25    1.083818\n",
      "2000-01-26    0.340141\n",
      "2000-01-27    0.338272\n",
      "2000-01-28    0.855412\n",
      "2000-01-29    1.337087\n",
      "2000-01-30    2.061731\n",
      "                ...   \n",
      "2002-08-28    8.155860\n",
      "2002-08-29    9.169072\n",
      "2002-08-30    7.986741\n",
      "2002-08-31    8.249927\n",
      "2002-09-01    7.884083\n",
      "2002-09-02    5.762010\n",
      "2002-09-03    5.211491\n",
      "2002-09-04    4.701458\n",
      "2002-09-05    4.406521\n",
      "2002-09-06    4.454511\n",
      "2002-09-07    4.272012\n",
      "2002-09-08    4.214813\n",
      "2002-09-09    5.948731\n",
      "2002-09-10    6.801059\n",
      "2002-09-11    5.427929\n",
      "2002-09-12    6.281387\n",
      "2002-09-13    6.927426\n",
      "2002-09-14    7.039186\n",
      "2002-09-15    6.609784\n",
      "2002-09-16    5.995434\n",
      "2002-09-17    7.575137\n",
      "2002-09-18    8.639217\n",
      "2002-09-19    7.871803\n",
      "2002-09-20    8.370408\n",
      "2002-09-21    7.162787\n",
      "2002-09-22    5.612626\n",
      "2002-09-23    6.427910\n",
      "2002-09-24    7.731969\n",
      "2002-09-25    7.645467\n",
      "2002-09-26    6.216898\n",
      "Freq: D, Name: A, dtype: float64\n"
     ]
    },
    {
     "data": {
      "text/plain": [
       "<matplotlib.axes._subplots.AxesSubplot at 0x7fcb67d764a8>"
      ]
     },
     "execution_count": 72,
     "metadata": {},
     "output_type": "execute_result"
    },
    {
     "name": "stderr",
     "output_type": "stream",
     "text": [
      "/root/anaconda3/lib/python3.5/site-packages/matplotlib/font_manager.py:1297: UserWarning: findfont: Font family ['monospace'] not found. Falling back to DejaVu Sans\n",
      "  (prop.get_family(), self.defaultFamily[fontext]))\n"
     ]
    },
    {
     "data": {
      "image/png": "[encoded data removed]",
      "text/plain": [
       "<matplotlib.figure.Figure at 0x7fcb67d04ac8>"
      ]
     },
     "metadata": {},
     "output_type": "display_data"
    }
   ],
   "source": [
    "#histogram of a series. Note we apply diff to undo the cumsum before\n",
    "print (df['A'].diff())\n",
    "df['A'].diff().hist()"
   ]
  },
  {
   "cell_type": "code",
   "execution_count": 73,
   "metadata": {},
   "outputs": [
    {
     "data": {
      "text/plain": [
       "array([[<matplotlib.axes._subplots.AxesSubplot object at 0x7fcb67cc7fd0>,\n",
       "        <matplotlib.axes._subplots.AxesSubplot object at 0x7fcb67bfe4a8>],\n",
       "       [<matplotlib.axes._subplots.AxesSubplot object at 0x7fcb67bc99b0>,\n",
       "        <matplotlib.axes._subplots.AxesSubplot object at 0x7fcb67b8d1d0>]], dtype=object)"
      ]
     },
     "execution_count": 73,
     "metadata": {},
     "output_type": "execute_result"
    },
    {
     "name": "stderr",
     "output_type": "stream",
     "text": [
      "/root/anaconda3/lib/python3.5/site-packages/matplotlib/font_manager.py:1297: UserWarning: findfont: Font family ['monospace'] not found. Falling back to DejaVu Sans\n",
      "  (prop.get_family(), self.defaultFamily[fontext]))\n"
     ]
    },
    {
     "data": {
      "image/png": "[encoded data removed]",
      "text/plain": [
       "<matplotlib.figure.Figure at 0x7fcb67caa128>"
      ]
     },
     "metadata": {},
     "output_type": "display_data"
    }
   ],
   "source": [
    "#histogram of a Data Frame. Note we apply diff to undo the cumsum before\n",
    "df.diff().hist(color='k', alpha=0.5, bins=50)"
   ]
  },
  {
   "cell_type": "markdown",
   "metadata": {
    "slideshow": {
     "slide_type": "subslide"
    }
   },
   "source": [
    "#### Box Plots\n"
   ]
  },
  {
   "cell_type": "code",
   "execution_count": 74,
   "metadata": {
    "slideshow": {
     "slide_type": "fragment"
    }
   },
   "outputs": [
    {
     "name": "stdout",
     "output_type": "stream",
     "text": [
      "          0         1         2         3         4\n",
      "0  0.426385  0.073490  0.656192  0.558762  0.238066\n",
      "1  0.831852  0.324104  0.246517  0.030236  0.633227\n",
      "2  0.919606  0.306596  0.225051  0.181491  0.330098\n",
      "3  0.909707  0.061220  0.445632  0.358637  0.209390\n",
      "4  0.003265  0.489948  0.563821  0.450856  0.511758\n",
      "5  0.989987  0.759497  0.087286  0.446989  0.209415\n",
      "6  0.234556  0.949227  0.817689  0.488496  0.368428\n",
      "7  0.827385  0.498589  0.705970  0.650829  0.392453\n",
      "8  0.193496  0.786077  0.407881  0.657887  0.635198\n",
      "9  0.560343  0.095492  0.529329  0.051978  0.336465\n"
     ]
    },
    {
     "name": "stderr",
     "output_type": "stream",
     "text": [
      "/root/anaconda3/lib/python3.5/site-packages/matplotlib/font_manager.py:1297: UserWarning: findfont: Font family ['monospace'] not found. Falling back to DejaVu Sans\n",
      "  (prop.get_family(), self.defaultFamily[fontext]))\n"
     ]
    },
    {
     "data": {
      "image/png": "[encoded data removed]",
      "text/plain": [
       "<matplotlib.figure.Figure at 0x7fcb67b97c18>"
      ]
     },
     "metadata": {},
     "output_type": "display_data"
    }
   ],
   "source": [
    "df = pd.DataFrame(rand(10,5))\n",
    "print (df)\n",
    "bp = df.boxplot()"
   ]
  },
  {
   "cell_type": "code",
   "execution_count": 75,
   "metadata": {
    "slideshow": {
     "slide_type": "fragment"
    }
   },
   "outputs": [
    {
     "name": "stderr",
     "output_type": "stream",
     "text": [
      "/root/anaconda3/lib/python3.5/site-packages/matplotlib/font_manager.py:1297: UserWarning: findfont: Font family ['monospace'] not found. Falling back to DejaVu Sans\n",
      "  (prop.get_family(), self.defaultFamily[fontext]))\n"
     ]
    },
    {
     "data": {
      "image/png": "[encoded data removed]",
      "text/plain": [
       "<matplotlib.figure.Figure at 0x7fcb678951d0>"
      ]
     },
     "metadata": {},
     "output_type": "display_data"
    }
   ],
   "source": [
    "df = pd.DataFrame(rand(10,2), columns=['Col1', 'Col2'] )\n",
    "df['X'] = pd.Series(['A','A','A','A','A','B','B','B','B','B'])\n",
    "#group boxplot by a series\n",
    "bp = df.boxplot(by='X')"
   ]
  },
  {
   "cell_type": "markdown",
   "metadata": {
    "slideshow": {
     "slide_type": "subslide"
    }
   },
   "source": [
    "#### Area Plot"
   ]
  },
  {
   "cell_type": "code",
   "execution_count": 76,
   "metadata": {},
   "outputs": [
    {
     "name": "stdout",
     "output_type": "stream",
     "text": [
      "0.19.2\n"
     ]
    },
    {
     "data": {
      "text/plain": [
       "<matplotlib.axes._subplots.AxesSubplot at 0x7fcb6787c470>"
      ]
     },
     "execution_count": 76,
     "metadata": {},
     "output_type": "execute_result"
    },
    {
     "name": "stderr",
     "output_type": "stream",
     "text": [
      "/root/anaconda3/lib/python3.5/site-packages/matplotlib/font_manager.py:1297: UserWarning: findfont: Font family ['monospace'] not found. Falling back to DejaVu Sans\n",
      "  (prop.get_family(), self.defaultFamily[fontext]))\n"
     ]
    },
    {
     "data": {
      "image/png": "[encoded data removed]",
      "text/plain": [
       "<matplotlib.figure.Figure at 0x7fcb67792550>"
      ]
     },
     "metadata": {},
     "output_type": "display_data"
    }
   ],
   "source": [
    "#note only available in pandas 0.14\n",
    "print (pd.__version__)\n",
    "df = pd.DataFrame(rand(10, 4), columns=['a', 'b', 'c', 'd'])\n",
    "df.plot(kind='area')"
   ]
  },
  {
   "cell_type": "markdown",
   "metadata": {
    "slideshow": {
     "slide_type": "subslide"
    }
   },
   "source": [
    "#### Scatter Matrix Plot\n"
   ]
  },
  {
   "cell_type": "code",
   "execution_count": 77,
   "metadata": {
    "slideshow": {
     "slide_type": "fragment"
    }
   },
   "outputs": [
    {
     "data": {
      "text/plain": [
       "array([[<matplotlib.axes._subplots.AxesSubplot object at 0x7fcb676bf278>,\n",
       "        <matplotlib.axes._subplots.AxesSubplot object at 0x7fcb67b780f0>,\n",
       "        <matplotlib.axes._subplots.AxesSubplot object at 0x7fcb676e0e80>,\n",
       "        <matplotlib.axes._subplots.AxesSubplot object at 0x7fcb678c2e48>],\n",
       "       [<matplotlib.axes._subplots.AxesSubplot object at 0x7fcb6768fb70>,\n",
       "        <matplotlib.axes._subplots.AxesSubplot object at 0x7fcb6764e390>,\n",
       "        <matplotlib.axes._subplots.AxesSubplot object at 0x7fcb6761b668>,\n",
       "        <matplotlib.axes._subplots.AxesSubplot object at 0x7fcb675de390>],\n",
       "       [<matplotlib.axes._subplots.AxesSubplot object at 0x7fcb675aa860>,\n",
       "        <matplotlib.axes._subplots.AxesSubplot object at 0x7fcb6756e390>,\n",
       "        <matplotlib.axes._subplots.AxesSubplot object at 0x7fcb674ba860>,\n",
       "        <matplotlib.axes._subplots.AxesSubplot object at 0x7fcb674cba90>],\n",
       "       [<matplotlib.axes._subplots.AxesSubplot object at 0x7fcb6744c860>,\n",
       "        <matplotlib.axes._subplots.AxesSubplot object at 0x7fcb67417c50>,\n",
       "        <matplotlib.axes._subplots.AxesSubplot object at 0x7fcb673dc780>,\n",
       "        <matplotlib.axes._subplots.AxesSubplot object at 0x7fcb673a7b70>]], dtype=object)"
      ]
     },
     "execution_count": 77,
     "metadata": {},
     "output_type": "execute_result"
    },
    {
     "name": "stderr",
     "output_type": "stream",
     "text": [
      "/root/anaconda3/lib/python3.5/site-packages/matplotlib/font_manager.py:1297: UserWarning: findfont: Font family ['monospace'] not found. Falling back to DejaVu Sans\n",
      "  (prop.get_family(), self.defaultFamily[fontext]))\n"
     ]
    },
    {
     "data": {
      "image/png": "[encoded data removed]",
      "text/plain": [
       "<matplotlib.figure.Figure at 0x7fcb67c70fd0>"
      ]
     },
     "metadata": {},
     "output_type": "display_data"
    }
   ],
   "source": [
    "from pandas.tools.plotting import scatter_matrix\n",
    "df = pd.DataFrame(randn(1000, 4), columns=['a', 'b', 'c', 'd'])\n",
    "scatter_matrix(df, alpha=0.2, figsize=(6, 6), diagonal='kde')\n"
   ]
  },
  {
   "cell_type": "markdown",
   "metadata": {
    "slideshow": {
     "slide_type": "subslide"
    }
   },
   "source": [
    "#### Density Plots\n",
    "\n",
    "Plot an estimated probability density function (PDE)"
   ]
  },
  {
   "cell_type": "code",
   "execution_count": 78,
   "metadata": {
    "slideshow": {
     "slide_type": "fragment"
    }
   },
   "outputs": [
    {
     "data": {
      "text/plain": [
       "<matplotlib.axes._subplots.AxesSubplot at 0x7fcb60ca43c8>"
      ]
     },
     "execution_count": 78,
     "metadata": {},
     "output_type": "execute_result"
    },
    {
     "name": "stderr",
     "output_type": "stream",
     "text": [
      "/root/anaconda3/lib/python3.5/site-packages/matplotlib/font_manager.py:1297: UserWarning: findfont: Font family ['monospace'] not found. Falling back to DejaVu Sans\n",
      "  (prop.get_family(), self.defaultFamily[fontext]))\n"
     ]
    },
    {
     "data": {
      "image/png": "[encoded data removed]",
      "text/plain": [
       "<matplotlib.figure.Figure at 0x7fcb60cac320>"
      ]
     },
     "metadata": {},
     "output_type": "display_data"
    }
   ],
   "source": [
    "ser = pd.Series(numpy.random.randn(1000))\n",
    "ser.plot(kind='kde')"
   ]
  },
  {
   "cell_type": "markdown",
   "metadata": {
    "slideshow": {
     "slide_type": "subslide"
    }
   },
   "source": [
    "#### Andrews Curves\n",
    "\n",
    "Andrews curves allow one to plot multivariate data as a large number of curves that are created using the attributes of samples as coefficients for Fourier series. By coloring these curves differently for each class it is possible to visualize data clustering. Curves belonging to samples of the same class will usually be closer together and form larger structures."
   ]
  },
  {
   "cell_type": "code",
   "execution_count": 79,
   "metadata": {
    "slideshow": {
     "slide_type": "fragment"
    }
   },
   "outputs": [
    {
     "data": {
      "text/plain": [
       "<matplotlib.axes._subplots.AxesSubplot at 0x7fcb60c78860>"
      ]
     },
     "execution_count": 79,
     "metadata": {},
     "output_type": "execute_result"
    },
    {
     "name": "stderr",
     "output_type": "stream",
     "text": [
      "/root/anaconda3/lib/python3.5/site-packages/matplotlib/font_manager.py:1297: UserWarning: findfont: Font family ['monospace'] not found. Falling back to DejaVu Sans\n",
      "  (prop.get_family(), self.defaultFamily[fontext]))\n"
     ]
    },
    {
     "data": {
      "image/png": "[encoded data removed]",
      "text/plain": [
       "<matplotlib.figure.Figure at 0x7fcb603fe6d8>"
      ]
     },
     "metadata": {},
     "output_type": "display_data"
    }
   ],
   "source": [
    "from pandas.tools.plotting import andrews_curves\n",
    "data = pd.read_csv('data/iris.dat')\n",
    "#print data\n",
    "andrews_curves(data, 'Name')"
   ]
  },
  {
   "cell_type": "markdown",
   "metadata": {
    "slideshow": {
     "slide_type": "subslide"
    }
   },
   "source": [
    "#### Parallel Coordinates\n",
    "\n",
    "Parallel coordinates is a plotting technique for plotting multivariate data. It allows one to see clusters in data and to estimate other statistics visually. Using parallel coordinates points are represented as connected line segments. Each vertical line represents one attribute. One set of connected line segments represents one data point. Points that tend to cluster will appear closer together."
   ]
  },
  {
   "cell_type": "code",
   "execution_count": 80,
   "metadata": {
    "slideshow": {
     "slide_type": "fragment"
    }
   },
   "outputs": [
    {
     "data": {
      "text/plain": [
       "<matplotlib.axes._subplots.AxesSubplot at 0x7fcb601f79b0>"
      ]
     },
     "execution_count": 80,
     "metadata": {},
     "output_type": "execute_result"
    },
    {
     "name": "stderr",
     "output_type": "stream",
     "text": [
      "/root/anaconda3/lib/python3.5/site-packages/matplotlib/font_manager.py:1297: UserWarning: findfont: Font family ['monospace'] not found. Falling back to DejaVu Sans\n",
      "  (prop.get_family(), self.defaultFamily[fontext]))\n"
     ]
    },
    {
     "data": {
      "image/png": "[encoded data removed]",
      "text/plain": [
       "<matplotlib.figure.Figure at 0x7fcb6040af60>"
      ]
     },
     "metadata": {},
     "output_type": "display_data"
    }
   ],
   "source": [
    "from pandas.tools.plotting import parallel_coordinates\n",
    "parallel_coordinates(data, 'Name')"
   ]
  },
  {
   "cell_type": "markdown",
   "metadata": {
    "slideshow": {
     "slide_type": "subslide"
    }
   },
   "source": [
    "#### Rad Viz\n",
    "\n",
    "RadViz is a way of visualizing multi-variate data. It is based on a simple spring tension minimization algorithm. Basically you set up a bunch of points in a plane. In our case they are equally spaced on a unit circle. Each point represents a single attribute. You then pretend that each sample in the data set is attached to each of these points by a spring, the stiffness of which is proportional to the numerical value of that attribute (they are normalized to unit interval). The point in the plane, where our sample settles to (where the forces acting on our sample are at an equilibrium) is where a dot representing our sample will be drawn. Depending on which class that sample belongs it will be colored differently."
   ]
  },
  {
   "cell_type": "code",
   "execution_count": 81,
   "metadata": {
    "slideshow": {
     "slide_type": "fragment"
    }
   },
   "outputs": [
    {
     "data": {
      "text/plain": [
       "<matplotlib.axes._subplots.AxesSubplot at 0x7fcb5af2f358>"
      ]
     },
     "execution_count": 81,
     "metadata": {},
     "output_type": "execute_result"
    },
    {
     "name": "stderr",
     "output_type": "stream",
     "text": [
      "/root/anaconda3/lib/python3.5/site-packages/matplotlib/font_manager.py:1297: UserWarning: findfont: Font family ['monospace'] not found. Falling back to DejaVu Sans\n",
      "  (prop.get_family(), self.defaultFamily[fontext]))\n"
     ]
    },
    {
     "data": {
      "image/png": "[encoded data removed]",
      "text/plain": [
       "<matplotlib.figure.Figure at 0x7fcb5af277f0>"
      ]
     },
     "metadata": {},
     "output_type": "display_data"
    }
   ],
   "source": [
    "from pandas.tools.plotting import radviz\n",
    "radviz(data, 'Name')"
   ]
  },
  {
   "cell_type": "markdown",
   "metadata": {
    "slideshow": {
     "slide_type": "slide"
    }
   },
   "source": [
    "### Exercise 6.1.c: Visual Analysis of Complaints in NYC\n",
    "\n",
    "Time to try it out by yourself. Go to to the exercise and try to solve it."
   ]
  },
  {
   "cell_type": "markdown",
   "metadata": {
    "slideshow": {
     "slide_type": "slide"
    }
   },
   "source": [
    "# References\n",
    "\n",
    "* [Pandas Documentation](http://pandas.pydata.org/pandas-docs/stable/)\n",
    "* [Tutorials and Cookbooks] (http://pandas.pydata.org/pandas-docs/stable/tutorials.html)"
   ]
  }
 ],
 "metadata": {
  "anaconda-cloud": {},
  "celltoolbar": "Slideshow",
  "kernelspec": {
   "display_name": "Python 3",
   "language": "python",
   "name": "python3"
  },
  "language_info": {
   "codemirror_mode": {
    "name": "ipython",
    "version": 3
   },
   "file_extension": ".py",
   "mimetype": "text/x-python",
   "name": "python",
   "nbconvert_exporter": "python",
   "pygments_lexer": "ipython3",
   "version": "3.6.3"
  },
  "toc": {
   "colors": {
    "hover_highlight": "#DAA520",
    "running_highlight": "#FF0000",
    "selected_highlight": "#FFD700"
   },
   "moveMenuLeft": true,
   "navigate_menu": true,
   "number_sections": true,
   "sideBar": true,
   "threshold": 4,
   "toc_cell": false,
   "toc_section_display": "block",
   "toc_window_display": false
  }
 },
 "nbformat": 4,
 "nbformat_minor": 1
}
