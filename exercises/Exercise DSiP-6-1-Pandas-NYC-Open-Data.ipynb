{
 "metadata": {
  "celltoolbar": "Slideshow",
  "name": "",
  "signature": "sha256:1f24f9512925bf2bf086f48f57f0711fdbb54cd5b506a5e04e53d99daf3d3784"
 },
 "nbformat": 3,
 "nbformat_minor": 0,
 "worksheets": [
  {
   "cells": [
    {
     "cell_type": "markdown",
     "metadata": {
      "slideshow": {
       "slide_type": "slide"
      }
     },
     "source": [
      "#Scientific Programming in Python (SPiP) - Pandas Exercise 6.1\n",
      "\n",
      "by [Michael Granitzer (michael.granitzer@uni-passau.de)](http://www.mendeley.com/profiles/michael-granitzer/) \n",
      "\n",
      "based on the following sources:\n",
      "* [Julia Evans'](https://github.com/jvns) [Pandas Cookbook](https://github.com/jvns/pandas-cookbook/blob/master/README.md)\n",
      "   \n",
      "__License__\n",
      "\n",
      "This work is licensed under a [Creative Commons Attribution 3.0 Unported License](http://creativecommons.org/licenses/by/3.0/)"
     ]
    },
    {
     "cell_type": "markdown",
     "metadata": {
      "slideshow": {
       "slide_type": "slide"
      }
     },
     "source": [
      "# Exercise SPiP 6.1: New York City Open Data\n",
      "\n",
      "In these exercise we will use Pandas to analyse NYC Open Data. Open Data refers to data that is publicly available. A number of governmental organisations and regional administrations are opening up data to their citizens. In this example it is data from New York City.\n",
      "\n",
      "The data set we will use is about 311 service requests from NYC. 311 is a telephon number for none emergency municipal service requests. The data has been obtained from the [NYC Open Data Portal](https://nycopendata.socrata.com/Social-Services/311-Service-Requests-from-2010-to-Present/erm2-nwe9) and are all service requests since 2010. In total 55mb.\n",
      "\n",
      "Use the [Python 101 Cheatsheet](http://nbviewer.ipython.org/urls/bitbucket.org/hrojas/learn-pandas/raw/master/lessons/Python_101.ipynb) as reference\n",
      "\n"
     ]
    },
    {
     "cell_type": "markdown",
     "metadata": {
      "slideshow": {
       "slide_type": "subslide"
      }
     },
     "source": [
      "##Exercise SPiP 6.1.a: Getting an idea on the data\n",
      "\n",
      "The first exercise is about getting an idea what the data is about. Therefore you should:\n",
      "\n",
      "1. Load the \"csv\" data file under `data/311-service-requests.csv` as data frame (or download it from https://raw.githubusercontent.com/jvns/pandas-cookbook/master/data/311-service-requests.csv)\n",
      "2. Explore the data. Look at the first part and the last part of the data to get an idea what it contains.\n",
      "3. Print the first 10 rows of only the complaint types, then only the boroughs (column `Borough`) and then both. \n",
      "4. Identify the most common complaint type.\n",
      "5. Identify the borrough having the most complaints.\n",
      "6. (Optional) Plot the 10 most frequent complaintypse using `DataFrame.plot` (Before use `%pylab inline` to print graphics inline)\n"
     ]
    },
    {
     "cell_type": "markdown",
     "metadata": {
      "slideshow": {
       "slide_type": "subslide"
      }
     },
     "source": [
      "##Exercise SPiP 6.1.b: Analysing noise complaints\n",
      "\n",
      "The second exercise should answer the question on which borrow has the most complaints about noise in the street (\"Noise - Street/Sidewalk\"). Answer this question in terms of percentage to all noise complaints. Try to answer that question using Pandas. Maybe you can even plot the data as bar chart.\n"
     ]
    },
    {
     "cell_type": "markdown",
     "metadata": {
      "slideshow": {
       "slide_type": "subslide"
      }
     },
     "source": [
      "##Exercise SPiP 6.1.c: Visualise NYC Data\n",
      "\n",
      "Explore the NYC Open Data through using several visualisations:\n",
      "\n",
      "* Plot the frequency histogram of the different complain types for the city \"FOREST HILLS\"\n",
      "* Visualise the location (via longitude and latitude) of the most frequent complain type in \"FOREST HILLS\"\n",
      "* Plot a histogram of the average duration time for closing the case of a complain ('Closed Date'-'Created Date'). \n",
      "\n",
      "  **Notes:**\n",
      "  * You need to use the `parse_dates` keyword argument when reading the csv data (`read_csv(filename,parse_dates=[idx of columns])`.Reading the data can take a while. \n",
      "  *  Further use `Series.astype('timedelta64[D]')` to convert a datetime series to a numerical value in days\n",
      "  \n",
      "  \n",
      "* Visualise the distribution of the duration using a box plot. Discuss the pros/contras to a histogram.\n",
      "* Compare the distribution of the duration for completing a complain issue for the 4 most common complain types using a box plot. Analyse the outcome. Does it make sense?"
     ]
    },
    {
     "cell_type": "markdown",
     "metadata": {
      "slideshow": {
       "slide_type": "slide"
      }
     },
     "source": [
      "# Solutions SPiP 6.1"
     ]
    },
    {
     "cell_type": "markdown",
     "metadata": {
      "slideshow": {
       "slide_type": "slide"
      }
     },
     "source": [
      "## Solution for SPiP 6.1.a\n",
      "\n",
      "See also on [Github](http://nbviewer.ipython.org/github/jvns/pandas-cookbook/blob/master/cookbook/Chapter%202%20-%20Selecting%20data%20%26%20finding%20the%20most%20common%20complaint%20type.ipynb). Credits go to [Julia Evans](https://github.com/jvns) and her [Pandas Cookbook](https://github.com/jvns/pandas-cookbook/blob/master/README.md)"
     ]
    },
    {
     "cell_type": "markdown",
     "metadata": {
      "slideshow": {
       "slide_type": "subslide"
      }
     },
     "source": [
      "** Subtasks **\n",
      "1. Load the \"csv\" data file under `data/311-service-requests.csv` as data frame (or download it from https://raw.githubusercontent.com/jvns/pandas-cookbook/master/data/311-service-requests.csv)\n",
      "2. Explore the data. Look at the first part and the last part of the data to get an idea what it contains.\n"
     ]
    },
    {
     "cell_type": "code",
     "collapsed": false,
     "input": [
      "import pandas as pd\n",
      "import numpy as np\n",
      "complaints = pd.read_csv('../data/311-service-requests.csv')\n",
      "print complaints.columns\n",
      "print \"=============================================\"\n",
      "print complaints.head()\n",
      "print \"=============================================\"\n",
      "print complaints.tail()"
     ],
     "language": "python",
     "metadata": {
      "slideshow": {
       "slide_type": "fragment"
      }
     },
     "outputs": [
      {
       "output_type": "stream",
       "stream": "stdout",
       "text": [
        "Index([u'Unique Key', u'Created Date', u'Closed Date', u'Agency', u'Agency Name', u'Complaint Type', u'Descriptor', u'Location Type', u'Incident Zip', u'Incident Address', u'Street Name', u'Cross Street 1', u'Cross Street 2', u'Intersection Street 1', u'Intersection Street 2', u'Address Type', u'City', u'Landmark', u'Facility Type', u'Status', u'Due Date', u'Resolution Action Updated Date', u'Community Board', u'Borough', u'X Coordinate (State Plane)', u'Y Coordinate (State Plane)', u'Park Facility Name', u'Park Borough', u'School Name', u'School Number', u'School Region', u'School Code', u'School Phone Number', u'School Address', u'School City', u'School State', u'School Zip', u'School Not Found', u'School or Citywide Complaint', u'Vehicle Type', u'Taxi Company Borough', u'Taxi Pick Up Location', u'Bridge Highway Name', u'Bridge Highway Direction', u'Road Ramp', u'Bridge Highway Segment', u'Garage Lot Name', u'Ferry Direction', u'Ferry Terminal Name', u'Latitude', u'Longitude', u'Location'], dtype='object')\n",
        "=============================================\n",
        "   Unique Key            Created Date             Closed Date Agency  \\\n",
        "0    26589651  10/31/2013 02:08:41 AM                     NaN   NYPD   \n",
        "1    26593698  10/31/2013 02:01:04 AM                     NaN   NYPD   \n",
        "2    26594139  10/31/2013 02:00:24 AM  10/31/2013 02:40:32 AM   NYPD   \n",
        "3    26595721  10/31/2013 01:56:23 AM  10/31/2013 02:21:48 AM   NYPD   \n",
        "4    26590930  10/31/2013 01:53:44 AM                     NaN  DOHMH   \n",
        "\n",
        "                               Agency Name           Complaint Type  \\\n",
        "0          New York City Police Department  Noise - Street/Sidewalk   \n",
        "1          New York City Police Department          Illegal Parking   \n",
        "2          New York City Police Department       Noise - Commercial   \n",
        "3          New York City Police Department          Noise - Vehicle   \n",
        "4  Department of Health and Mental Hygiene                   Rodent   \n",
        "\n",
        "                     Descriptor        Location Type Incident Zip  \\\n",
        "0                  Loud Talking      Street/Sidewalk        11432   \n",
        "1  Commercial Overnight Parking      Street/Sidewalk        11378   \n",
        "2              Loud Music/Party  Club/Bar/Restaurant        10032   \n",
        "3                Car/Truck Horn      Street/Sidewalk        10023   \n",
        "4  Condition Attracting Rodents           Vacant Lot        10027   \n",
        "\n",
        "   Incident Address      Street Name   Cross Street 1  \\\n",
        "0  90-03 169 STREET       169 STREET        90 AVENUE   \n",
        "1         58 AVENUE        58 AVENUE         58 PLACE   \n",
        "2     4060 BROADWAY         BROADWAY  WEST 171 STREET   \n",
        "3    WEST 72 STREET   WEST 72 STREET  COLUMBUS AVENUE   \n",
        "4   WEST 124 STREET  WEST 124 STREET     LENOX AVENUE   \n",
        "\n",
        "                     Cross Street 2 Intersection Street 1  \\\n",
        "0                         91 AVENUE                   NaN   \n",
        "1                         59 STREET                   NaN   \n",
        "2                   WEST 172 STREET                   NaN   \n",
        "3                  AMSTERDAM AVENUE                   NaN   \n",
        "4  ADAM CLAYTON POWELL JR BOULEVARD                   NaN   \n",
        "\n",
        "  Intersection Street 2 Address Type      City Landmark Facility Type  \\\n",
        "0                   NaN      ADDRESS   JAMAICA      NaN      Precinct   \n",
        "1                   NaN    BLOCKFACE   MASPETH      NaN      Precinct   \n",
        "2                   NaN      ADDRESS  NEW YORK      NaN      Precinct   \n",
        "3                   NaN    BLOCKFACE  NEW YORK      NaN      Precinct   \n",
        "4                   NaN    BLOCKFACE  NEW YORK      NaN           NaN   \n",
        "\n",
        "     Status      \n",
        "0  Assigned ...  \n",
        "1      Open ...  \n",
        "2    Closed ...  \n",
        "3    Closed ...  \n",
        "4   Pending ...  \n",
        "\n",
        "[5 rows x 52 columns]\n",
        "=============================================\n",
        "        Unique Key            Created Date             Closed Date Agency  \\\n",
        "111064    26426013  10/04/2013 12:01:13 AM  10/07/2013 04:07:16 PM    DPR   \n",
        "111065    26428083  10/04/2013 12:01:05 AM  10/04/2013 02:13:50 AM   NYPD   \n",
        "111066    26428987  10/04/2013 12:00:45 AM  10/04/2013 01:25:01 AM   NYPD   \n",
        "111067    26426115  10/04/2013 12:00:28 AM  10/04/2013 04:17:32 AM   NYPD   \n",
        "111068    26428033  10/04/2013 12:00:10 AM  10/04/2013 01:20:52 AM   NYPD   \n",
        "\n",
        "                               Agency Name           Complaint Type  \\\n",
        "111064  Department of Parks and Recreation  Maintenance or Facility   \n",
        "111065     New York City Police Department          Illegal Parking   \n",
        "111066     New York City Police Department  Noise - Street/Sidewalk   \n",
        "111067     New York City Police Department       Noise - Commercial   \n",
        "111068     New York City Police Department         Blocked Driveway   \n",
        "\n",
        "                           Descriptor        Location Type Incident Zip  \\\n",
        "111064           Structure - Outdoors                 Park        11213   \n",
        "111065  Posted Parking Sign Violation      Street/Sidewalk        11434   \n",
        "111066                   Loud Talking      Street/Sidewalk        10016   \n",
        "111067                   Loud Talking  Club/Bar/Restaurant        11226   \n",
        "111068                 Partial Access      Street/Sidewalk        11236   \n",
        "\n",
        "            Incident Address      Street Name      Cross Street 1  \\\n",
        "111064                   NaN              NaN                 NaN   \n",
        "111065                   NaN              NaN                 NaN   \n",
        "111066    344 EAST 28 STREET   EAST 28 STREET  MOUNT CARMEL PLACE   \n",
        "111067  1233 FLATBUSH AVENUE  FLATBUSH AVENUE            AVENUE D   \n",
        "111068   1259 EAST 94 STREET   EAST 94 STREET            AVENUE J   \n",
        "\n",
        "        Cross Street 2   Intersection Street 1 Intersection Street 2  \\\n",
        "111064             NaN                     NaN                   NaN   \n",
        "111065             NaN  GUY R BREWER BOULEVARD    ROCKAWAY BOULEVARD   \n",
        "111066        1 AVENUE                     NaN                   NaN   \n",
        "111067  NEWKIRK AVENUE                     NaN                   NaN   \n",
        "111068        AVENUE K                     NaN                   NaN   \n",
        "\n",
        "        Address Type      City Landmark Facility Type  Status      \n",
        "111064           NaN  BROOKLYN      NaN           NaN  Closed ...  \n",
        "111065  INTERSECTION   JAMAICA      NaN      Precinct  Closed ...  \n",
        "111066       ADDRESS  NEW YORK      NaN      Precinct  Closed ...  \n",
        "111067       ADDRESS  BROOKLYN      NaN      Precinct  Closed ...  \n",
        "111068       ADDRESS  BROOKLYN      NaN      Precinct  Closed ...  \n",
        "\n",
        "[5 rows x 52 columns]\n"
       ]
      }
     ],
     "prompt_number": 7
    },
    {
     "cell_type": "markdown",
     "metadata": {
      "slideshow": {
       "slide_type": "subslide"
      }
     },
     "source": [
      "**3. Print the first 10 rows of only the complaint types, then only the boroughs (column `Borough`) and then both. **\n"
     ]
    },
    {
     "cell_type": "code",
     "collapsed": false,
     "input": [
      "print complaints['Complaint Type'][:10]\n",
      "print \"======================================================================\"\n",
      "print complaints['Borough'][:10]\n",
      "print \"======================================================================\"\n",
      "print complaints[['Complaint Type','Borough']][:10]\n",
      "print \"======================================================================\""
     ],
     "language": "python",
     "metadata": {
      "slideshow": {
       "slide_type": "fragment"
      }
     },
     "outputs": [
      {
       "output_type": "stream",
       "stream": "stdout",
       "text": [
        "0    Noise - Street/Sidewalk\n",
        "1            Illegal Parking\n",
        "2         Noise - Commercial\n",
        "3            Noise - Vehicle\n",
        "4                     Rodent\n",
        "5         Noise - Commercial\n",
        "6           Blocked Driveway\n",
        "7         Noise - Commercial\n",
        "8         Noise - Commercial\n",
        "9         Noise - Commercial\n",
        "Name: Complaint Type, dtype: object\n",
        "======================================================================\n",
        "0       QUEENS\n",
        "1       QUEENS\n",
        "2    MANHATTAN\n",
        "3    MANHATTAN\n",
        "4    MANHATTAN\n",
        "5       QUEENS\n",
        "6       QUEENS\n",
        "7       QUEENS\n",
        "8    MANHATTAN\n",
        "9     BROOKLYN\n",
        "Name: Borough, dtype: object\n",
        "======================================================================\n",
        "            Complaint Type    Borough\n",
        "0  Noise - Street/Sidewalk     QUEENS\n",
        "1          Illegal Parking     QUEENS\n",
        "2       Noise - Commercial  MANHATTAN\n",
        "3          Noise - Vehicle  MANHATTAN\n",
        "4                   Rodent  MANHATTAN\n",
        "5       Noise - Commercial     QUEENS\n",
        "6         Blocked Driveway     QUEENS\n",
        "7       Noise - Commercial     QUEENS\n",
        "8       Noise - Commercial  MANHATTAN\n",
        "9       Noise - Commercial   BROOKLYN\n",
        "\n",
        "[10 rows x 2 columns]\n",
        "======================================================================\n"
       ]
      }
     ],
     "prompt_number": 2
    },
    {
     "cell_type": "markdown",
     "metadata": {
      "slideshow": {
       "slide_type": "subslide"
      }
     },
     "source": [
      "**4. Identify the most common complaint type.**\n"
     ]
    },
    {
     "cell_type": "code",
     "collapsed": false,
     "input": [
      "complaints['Complaint Type'].value_counts()"
     ],
     "language": "python",
     "metadata": {
      "slideshow": {
       "slide_type": "fragment"
      }
     },
     "outputs": [
      {
       "metadata": {},
       "output_type": "pyout",
       "prompt_number": 6,
       "text": [
        "HEATING                     14200\n",
        "GENERAL CONSTRUCTION         7471\n",
        "Street Light Condition       7117\n",
        "DOF Literature Request       5797\n",
        "PLUMBING                     5373\n",
        "PAINT - PLASTER              5149\n",
        "Blocked Driveway             4590\n",
        "NONCONST                     3998\n",
        "Street Condition             3473\n",
        "Illegal Parking              3343\n",
        "Noise                        3321\n",
        "Traffic Signal Condition     3145\n",
        "Dirty Conditions             2653\n",
        "Water System                 2636\n",
        "Noise - Commercial           2578\n",
        "...\n",
        "Opinion for the Mayor                2\n",
        "Window Guard                         2\n",
        "DFTA Literature Request              2\n",
        "Legal Services Provider Complaint    2\n",
        "Open Flame Permit                    1\n",
        "Snow                                 1\n",
        "Municipal Parking Facility           1\n",
        "X-Ray Machine/Equipment              1\n",
        "Stalled Sites                        1\n",
        "DHS Income Savings Requirement       1\n",
        "Tunnel Condition                     1\n",
        "Highway Sign - Damaged               1\n",
        "Ferry Permit                         1\n",
        "Trans Fat                            1\n",
        "DWD                                  1\n",
        "Length: 165, dtype: int64"
       ]
      }
     ],
     "prompt_number": 6
    },
    {
     "cell_type": "markdown",
     "metadata": {
      "slideshow": {
       "slide_type": "subslide"
      }
     },
     "source": [
      "**5. Identify the borrough having the most complaints.**\n"
     ]
    },
    {
     "cell_type": "code",
     "collapsed": false,
     "input": [
      "complaints['Borough'].value_counts()"
     ],
     "language": "python",
     "metadata": {
      "slideshow": {
       "slide_type": "fragment"
      }
     },
     "outputs": [
      {
       "metadata": {},
       "output_type": "pyout",
       "prompt_number": 5,
       "text": [
        "BROOKLYN         32890\n",
        "MANHATTAN        24288\n",
        "QUEENS           22281\n",
        "BRONX            19686\n",
        "Unspecified       7107\n",
        "STATEN ISLAND     4817\n",
        "dtype: int64"
       ]
      }
     ],
     "prompt_number": 5
    },
    {
     "cell_type": "markdown",
     "metadata": {
      "slideshow": {
       "slide_type": "subslide"
      }
     },
     "source": [
      "** 6. (Optional) Plot the 10 most frequent complaintypse using `DataFrame.plot` (Before use `%pylab inline` to print graphics inline)**"
     ]
    },
    {
     "cell_type": "code",
     "collapsed": false,
     "input": [
      "%pylab inline\n",
      "complaints['Complaint Type'].value_counts()[:10].plot(kind='bar')"
     ],
     "language": "python",
     "metadata": {
      "slideshow": {
       "slide_type": "fragment"
      }
     },
     "outputs": [
      {
       "output_type": "stream",
       "stream": "stdout",
       "text": [
        "Populating the interactive namespace from numpy and matplotlib\n"
       ]
      },
      {
       "metadata": {},
       "output_type": "pyout",
       "prompt_number": 7,
       "text": [
        "<matplotlib.axes.AxesSubplot at 0x1146ff650>"
       ]
      },
      {
       "metadata": {},
       "output_type": "display_data",
       "png": "[encoded data removed]",
       "text": [
        "<matplotlib.figure.Figure at 0x1146ff150>"
       ]
      }
     ],
     "prompt_number": 7
    },
    {
     "cell_type": "markdown",
     "metadata": {
      "slideshow": {
       "slide_type": "subslide"
      }
     },
     "source": [
      "##Solution SPiP 6.1.b: Analysing noise complaints\n",
      "See also on [Github](http://nbviewer.ipython.org/github/jvns/pandas-cookbook/blob/master/cookbook/Chapter%203%20-%20Which%20borough%20has%20the%20most%20noise%20complaints%3F%20%28or%2C%20more%20selecting%20data%29.ipynb). Credits go to [Julia Evans](https://github.com/jvns) and her [Pandas Cookbook](https://github.com/jvns/pandas-cookbook/blob/master/README.md)"
     ]
    },
    {
     "cell_type": "code",
     "collapsed": false,
     "input": [
      "is_noise = complaints['Complaint Type'] == \"Noise - Street/Sidewalk\"\n",
      "noise_complaints = complaints[is_noise]\n",
      "noise_complaints['Borough'].value_counts()"
     ],
     "language": "python",
     "metadata": {
      "slideshow": {
       "slide_type": "fragment"
      }
     },
     "outputs": [
      {
       "metadata": {},
       "output_type": "pyout",
       "prompt_number": 8,
       "text": [
        "MANHATTAN        917\n",
        "BROOKLYN         456\n",
        "BRONX            292\n",
        "QUEENS           226\n",
        "STATEN ISLAND     36\n",
        "Unspecified        1\n",
        "dtype: int64"
       ]
      }
     ],
     "prompt_number": 8
    },
    {
     "cell_type": "code",
     "collapsed": false,
     "input": [
      "noise_complaint_counts = noise_complaints['Borough'].value_counts()\n",
      "complaint_counts = complaints['Borough'].value_counts()"
     ],
     "language": "python",
     "metadata": {
      "slideshow": {
       "slide_type": "fragment"
      }
     },
     "outputs": [],
     "prompt_number": 9
    },
    {
     "cell_type": "code",
     "collapsed": false,
     "input": [
      "noise_complaint_counts / complaint_counts"
     ],
     "language": "python",
     "metadata": {
      "slideshow": {
       "slide_type": "fragment"
      }
     },
     "outputs": [
      {
       "metadata": {},
       "output_type": "pyout",
       "prompt_number": 10,
       "text": [
        "BRONX            0.014833\n",
        "BROOKLYN         0.013864\n",
        "MANHATTAN        0.037755\n",
        "QUEENS           0.010143\n",
        "STATEN ISLAND    0.007474\n",
        "Unspecified      0.000141\n",
        "dtype: float64"
       ]
      }
     ],
     "prompt_number": 10
    },
    {
     "cell_type": "code",
     "collapsed": false,
     "input": [
      "(noise_complaint_counts / complaint_counts.astype(float)).plot(kind='bar')"
     ],
     "language": "python",
     "metadata": {
      "slideshow": {
       "slide_type": "fragment"
      }
     },
     "outputs": [
      {
       "metadata": {},
       "output_type": "pyout",
       "prompt_number": 72,
       "text": [
        "<matplotlib.axes.AxesSubplot at 0x113d35190>"
       ]
      },
      {
       "metadata": {},
       "output_type": "display_data",
       "png": "[encoded data removed]",
       "text": [
        "<matplotlib.figure.Figure at 0x11399a390>"
       ]
      }
     ],
     "prompt_number": 72
    },
    {
     "cell_type": "markdown",
     "metadata": {
      "slideshow": {
       "slide_type": "subslide"
      }
     },
     "source": [
      "## Solutions 6.1.c: Visual Analysis of Complaints in NYC"
     ]
    },
    {
     "cell_type": "code",
     "collapsed": false,
     "input": [
      "#Plot the frequency histogram of the different complain types for the city \"FOREST HILLS\"\n",
      "forrest_hill_idx=complaints[\"City\"]==\"FOREST HILLS\"\n",
      "forrest_hill_complaints = complaints[forrest_hill_idx][\"Complaint Type\"]\n",
      "hist = forrest_hill_complaints.value_counts()\n",
      "hist.plot(kind=\"bar\")"
     ],
     "language": "python",
     "metadata": {
      "slideshow": {
       "slide_type": "fragment"
      }
     },
     "outputs": [
      {
       "metadata": {},
       "output_type": "pyout",
       "prompt_number": 65,
       "text": [
        "<matplotlib.axes.AxesSubplot at 0x1127ec810>"
       ]
      },
      {
       "metadata": {},
       "output_type": "display_data",
       "png": "[encoded data removed]",
       "text": [
        "<matplotlib.figure.Figure at 0x1125e2a10>"
       ]
      }
     ],
     "prompt_number": 65
    },
    {
     "cell_type": "code",
     "collapsed": false,
     "input": [
      "forrest_hill_complaints = complaints[forrest_hill_idx][[\"Complaint Type\",\"Longitude\", \"Latitude\"]]\n",
      "complain_idx=forrest_hill_complaints[\"Complaint Type\"]==hist.index[0]\n",
      "forrest_hill_complaints[complain_idx].plot(x=\"Longitude\",y=\"Latitude\",style=\".\")\n"
     ],
     "language": "python",
     "metadata": {
      "slideshow": {
       "slide_type": "fragment"
      }
     },
     "outputs": [
      {
       "metadata": {},
       "output_type": "pyout",
       "prompt_number": 186,
       "text": [
        "<matplotlib.axes.AxesSubplot at 0x14ce7d3d0>"
       ]
      },
      {
       "metadata": {},
       "output_type": "display_data",
       "png": "[encoded data removed]",
       "text": [
        "<matplotlib.figure.Figure at 0x14ce44250>"
       ]
      }
     ],
     "prompt_number": 186
    },
    {
     "cell_type": "code",
     "collapsed": false,
     "input": [
      "#parse data again but convert date as date\n",
      "complaints = pd.read_csv('../data/311-service-requests.csv',parse_dates=[1,2])"
     ],
     "language": "python",
     "metadata": {
      "slideshow": {
       "slide_type": "fragment"
      }
     },
     "outputs": [
      {
       "metadata": {},
       "output_type": "pyout",
       "prompt_number": 76,
       "text": [
        "0     10/31/2013 02:08:41 AM\n",
        "1     10/31/2013 02:01:04 AM\n",
        "2     10/31/2013 02:00:24 AM\n",
        "3     10/31/2013 01:56:23 AM\n",
        "4     10/31/2013 01:53:44 AM\n",
        "5     10/31/2013 01:46:52 AM\n",
        "6     10/31/2013 01:46:40 AM\n",
        "7     10/31/2013 01:44:19 AM\n",
        "8     10/31/2013 01:44:14 AM\n",
        "9     10/31/2013 01:34:41 AM\n",
        "10    10/31/2013 01:25:12 AM\n",
        "11    10/31/2013 01:24:14 AM\n",
        "12    10/31/2013 01:20:57 AM\n",
        "13    10/31/2013 01:20:13 AM\n",
        "14    10/31/2013 01:19:54 AM\n",
        "...\n",
        "111054    10/04/2013 12:06:39 AM\n",
        "111055    10/04/2013 12:06:28 AM\n",
        "111056    10/04/2013 12:06:26 AM\n",
        "111057    10/04/2013 12:06:00 AM\n",
        "111058    10/04/2013 12:05:12 AM\n",
        "111059    10/04/2013 12:04:52 AM\n",
        "111060    10/04/2013 12:04:00 AM\n",
        "111061    10/04/2013 12:03:00 AM\n",
        "111062    10/04/2013 12:03:00 AM\n",
        "111063    10/04/2013 12:02:00 AM\n",
        "111064    10/04/2013 12:01:13 AM\n",
        "111065    10/04/2013 12:01:05 AM\n",
        "111066    10/04/2013 12:00:45 AM\n",
        "111067    10/04/2013 12:00:28 AM\n",
        "111068    10/04/2013 12:00:10 AM\n",
        "Name: Created Date, Length: 111069, dtype: object"
       ]
      }
     ],
     "prompt_number": 76
    },
    {
     "cell_type": "code",
     "collapsed": false,
     "input": [
      "complaints[\"Duration\"]=(complaints['Closed Date']-complaints['Created Date']).astype('timedelta64[D]')\n",
      "is_finished = complaints[\"Duration\"]>0\n",
      "complaints[is_finished][\"Duration\"].hist()"
     ],
     "language": "python",
     "metadata": {
      "slideshow": {
       "slide_type": "fragment"
      }
     },
     "outputs": [
      {
       "metadata": {},
       "output_type": "pyout",
       "prompt_number": 115,
       "text": [
        "<matplotlib.axes.AxesSubplot at 0x121da1750>"
       ]
      },
      {
       "metadata": {},
       "output_type": "display_data",
       "png": "[encoded data removed]",
       "text": [
        "<matplotlib.figure.Figure at 0x1227fe410>"
       ]
      }
     ],
     "prompt_number": 115
    },
    {
     "cell_type": "code",
     "collapsed": false,
     "input": [
      "complaints[is_finished].boxplot(\"Duration\")"
     ],
     "language": "python",
     "metadata": {
      "slideshow": {
       "slide_type": "fragment"
      }
     },
     "outputs": [
      {
       "metadata": {},
       "output_type": "pyout",
       "prompt_number": 117,
       "text": [
        "{'boxes': [<matplotlib.lines.Line2D at 0x11744add0>],\n",
        " 'caps': [<matplotlib.lines.Line2D at 0x11744a0d0>,\n",
        "  <matplotlib.lines.Line2D at 0x11744a7d0>],\n",
        " 'fliers': [<matplotlib.lines.Line2D at 0x1168c8cd0>,\n",
        "  <matplotlib.lines.Line2D at 0x116a77dd0>],\n",
        " 'medians': [<matplotlib.lines.Line2D at 0x1168c8ed0>],\n",
        " 'whiskers': [<matplotlib.lines.Line2D at 0x11743eb90>,\n",
        "  <matplotlib.lines.Line2D at 0x11743ef50>]}"
       ]
      },
      {
       "metadata": {},
       "output_type": "display_data",
       "png": "[encoded data removed]",
       "text": [
        "<matplotlib.figure.Figure at 0x11a610610>"
       ]
      }
     ],
     "prompt_number": 117
    },
    {
     "cell_type": "code",
     "collapsed": false,
     "input": [
      "freq_complaints=complaints[is_finished][\"Complaint Type\"].value_counts()[:4]\n",
      "finished_complaints = complaints[is_finished]"
     ],
     "language": "python",
     "metadata": {
      "slideshow": {
       "slide_type": "fragment"
      }
     },
     "outputs": [],
     "prompt_number": 161
    },
    {
     "cell_type": "code",
     "collapsed": false,
     "input": [
      "mask=finished_complaints[\"Complaint Type\"].isin(freq_complaints.index)\n",
      "print freq_complaints.index\n",
      "finished_complaints[mask][[\"Complaint Type\",\"Duration\"]].boxplot(by=\"Complaint Type\")"
     ],
     "language": "python",
     "metadata": {
      "slideshow": {
       "slide_type": "fragment"
      }
     },
     "outputs": [
      {
       "output_type": "stream",
       "stream": "stdout",
       "text": [
        "Index([u'HEATING', u'DOF Literature Request', u'Broken Muni Meter', u'Street Condition'], dtype='object')\n"
       ]
      },
      {
       "metadata": {},
       "output_type": "pyout",
       "prompt_number": 166,
       "text": [
        "<matplotlib.axes.AxesSubplot at 0x118a9bd50>"
       ]
      },
      {
       "metadata": {},
       "output_type": "display_data",
       "png": "[encoded data removed]",
       "text": [
        "<matplotlib.figure.Figure at 0x118a96dd0>"
       ]
      }
     ],
     "prompt_number": 166
    }
   ],
   "metadata": {}
  }
 ]
}